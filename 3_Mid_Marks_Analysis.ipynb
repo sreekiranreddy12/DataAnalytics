{
 "cells": [
  {
   "cell_type": "markdown",
   "id": "2b6c5f0a-1c0d-48a8-ba01-70ca132e5814",
   "metadata": {},
   "source": [
    "Dataset- MIDMARKS.xlsx"
   ]
  },
  {
   "cell_type": "markdown",
   "id": "c67b6def-1421-4447-ab4b-e875c5b3111c",
   "metadata": {},
   "source": [
    "**Introduction**\n",
    "The midmarks dataset provides a detailed record of students' midterm exam scores across various subjects. This dataset is useful for analyzing student performance, identifying trends in different sections, and evaluating subject-wise difficulty levels. By studying the data, we can assess which subjects students excel in and which require further attention. Additionally, analyzing variations across sections can help educators refine their teaching methods and provide better academic support."
   ]
  },
  {
   "cell_type": "code",
   "execution_count": 329,
   "id": "e4d82e3d-c68e-4240-8a12-bfc352f24e4d",
   "metadata": {},
   "outputs": [
    {
     "data": {
      "text/html": [
       "<div>\n",
       "<style scoped>\n",
       "    .dataframe tbody tr th:only-of-type {\n",
       "        vertical-align: middle;\n",
       "    }\n",
       "\n",
       "    .dataframe tbody tr th {\n",
       "        vertical-align: top;\n",
       "    }\n",
       "\n",
       "    .dataframe thead th {\n",
       "        text-align: right;\n",
       "    }\n",
       "</style>\n",
       "<table border=\"1\" class=\"dataframe\">\n",
       "  <thead>\n",
       "    <tr style=\"text-align: right;\">\n",
       "      <th></th>\n",
       "      <th>S.NO</th>\n",
       "      <th>SECTION</th>\n",
       "      <th>DV</th>\n",
       "      <th>M-II</th>\n",
       "      <th>PP</th>\n",
       "      <th>BEEE</th>\n",
       "      <th>FL</th>\n",
       "      <th>FIMS</th>\n",
       "    </tr>\n",
       "  </thead>\n",
       "  <tbody>\n",
       "    <tr>\n",
       "      <th>0</th>\n",
       "      <td>1</td>\n",
       "      <td>ALPHA</td>\n",
       "      <td>12</td>\n",
       "      <td>0</td>\n",
       "      <td>17</td>\n",
       "      <td>9</td>\n",
       "      <td>19</td>\n",
       "      <td>15</td>\n",
       "    </tr>\n",
       "    <tr>\n",
       "      <th>1</th>\n",
       "      <td>2</td>\n",
       "      <td>ALPHA</td>\n",
       "      <td>19</td>\n",
       "      <td>12</td>\n",
       "      <td>16</td>\n",
       "      <td>16</td>\n",
       "      <td>18</td>\n",
       "      <td>3</td>\n",
       "    </tr>\n",
       "    <tr>\n",
       "      <th>2</th>\n",
       "      <td>3</td>\n",
       "      <td>ALPHA</td>\n",
       "      <td>18</td>\n",
       "      <td>14</td>\n",
       "      <td>18</td>\n",
       "      <td>18</td>\n",
       "      <td>18</td>\n",
       "      <td>16</td>\n",
       "    </tr>\n",
       "    <tr>\n",
       "      <th>3</th>\n",
       "      <td>4</td>\n",
       "      <td>ALPHA</td>\n",
       "      <td>15</td>\n",
       "      <td>9</td>\n",
       "      <td>19</td>\n",
       "      <td>17</td>\n",
       "      <td>19</td>\n",
       "      <td>15</td>\n",
       "    </tr>\n",
       "    <tr>\n",
       "      <th>4</th>\n",
       "      <td>5</td>\n",
       "      <td>ALPHA</td>\n",
       "      <td>18</td>\n",
       "      <td>17</td>\n",
       "      <td>19</td>\n",
       "      <td>19</td>\n",
       "      <td>20</td>\n",
       "      <td>18</td>\n",
       "    </tr>\n",
       "    <tr>\n",
       "      <th>...</th>\n",
       "      <td>...</td>\n",
       "      <td>...</td>\n",
       "      <td>...</td>\n",
       "      <td>...</td>\n",
       "      <td>...</td>\n",
       "      <td>...</td>\n",
       "      <td>...</td>\n",
       "      <td>...</td>\n",
       "    </tr>\n",
       "    <tr>\n",
       "      <th>713</th>\n",
       "      <td>714</td>\n",
       "      <td>ZETA</td>\n",
       "      <td>19</td>\n",
       "      <td>8</td>\n",
       "      <td>8</td>\n",
       "      <td>19</td>\n",
       "      <td>17</td>\n",
       "      <td>18</td>\n",
       "    </tr>\n",
       "    <tr>\n",
       "      <th>714</th>\n",
       "      <td>715</td>\n",
       "      <td>ZETA</td>\n",
       "      <td>12</td>\n",
       "      <td>1</td>\n",
       "      <td>7</td>\n",
       "      <td>10</td>\n",
       "      <td>20</td>\n",
       "      <td>8</td>\n",
       "    </tr>\n",
       "    <tr>\n",
       "      <th>715</th>\n",
       "      <td>716</td>\n",
       "      <td>ZETA</td>\n",
       "      <td>17</td>\n",
       "      <td>6</td>\n",
       "      <td>14</td>\n",
       "      <td>14</td>\n",
       "      <td>17</td>\n",
       "      <td>18</td>\n",
       "    </tr>\n",
       "    <tr>\n",
       "      <th>716</th>\n",
       "      <td>717</td>\n",
       "      <td>ZETA</td>\n",
       "      <td>12</td>\n",
       "      <td>1</td>\n",
       "      <td>6</td>\n",
       "      <td>7</td>\n",
       "      <td>15</td>\n",
       "      <td>12</td>\n",
       "    </tr>\n",
       "    <tr>\n",
       "      <th>717</th>\n",
       "      <td>718</td>\n",
       "      <td>ZETA</td>\n",
       "      <td>19</td>\n",
       "      <td>14</td>\n",
       "      <td>17</td>\n",
       "      <td>16</td>\n",
       "      <td>20</td>\n",
       "      <td>19</td>\n",
       "    </tr>\n",
       "  </tbody>\n",
       "</table>\n",
       "<p>718 rows × 8 columns</p>\n",
       "</div>"
      ],
      "text/plain": [
       "     S.NO SECTION  DV M-II  PP BEEE  FL FIMS\n",
       "0       1   ALPHA  12    0  17    9  19   15\n",
       "1       2   ALPHA  19   12  16   16  18    3\n",
       "2       3   ALPHA  18   14  18   18  18   16\n",
       "3       4   ALPHA  15    9  19   17  19   15\n",
       "4       5   ALPHA  18   17  19   19  20   18\n",
       "..    ...     ...  ..  ...  ..  ...  ..  ...\n",
       "713   714    ZETA  19    8   8   19  17   18\n",
       "714   715    ZETA  12    1   7   10  20    8\n",
       "715   716    ZETA  17    6  14   14  17   18\n",
       "716   717    ZETA  12    1   6    7  15   12\n",
       "717   718    ZETA  19   14  17   16  20   19\n",
       "\n",
       "[718 rows x 8 columns]"
      ]
     },
     "execution_count": 329,
     "metadata": {},
     "output_type": "execute_result"
    }
   ],
   "source": [
    "import pandas as pd\n",
    "import warnings\n",
    "warnings.filterwarnings(\"ignore\")\n",
    "a = pd.read_excel(\"MIDMARKS.xlsx\")\n",
    "a[\"S.NO\"]=range(1,len(a)+1)\n",
    "a\n"
   ]
  },
  {
   "cell_type": "markdown",
   "id": "819dd4b6-a78c-40c1-b186-e370fa2c5f44",
   "metadata": {},
   "source": [
    "**Columnns-Description**\n",
    "1. S.NO - Serial number of the student in the dataset.  \n",
    "2. SECTION - The section to which the student belongs (e.g., ALPHA).  \n",
    "3. DV - Marks obtained in the subject Digital Values.  \n",
    "4. M-II - Marks obtained in Mathematics-II.  \n",
    "5. PP - Marks obtained in Programming Principles.  \n",
    "6. BEEE - Marks obtained in Basic Electrical and Electronics Engineering.  \n",
    "7. FL - Marks obtained in Foreign Language.  \n",
    "8. FIMS - Marks obtained in Financial and Industrial Management Studies."
   ]
  },
  {
   "cell_type": "code",
   "execution_count": 331,
   "id": "f512b1e7-fcfe-45c8-943c-44c6809c8bc2",
   "metadata": {},
   "outputs": [
    {
     "name": "stdout",
     "output_type": "stream",
     "text": [
      "<class 'pandas.core.frame.DataFrame'>\n",
      "RangeIndex: 718 entries, 0 to 717\n",
      "Data columns (total 8 columns):\n",
      " #   Column   Non-Null Count  Dtype \n",
      "---  ------   --------------  ----- \n",
      " 0   S.NO     718 non-null    int64 \n",
      " 1   SECTION  691 non-null    object\n",
      " 2   DV       716 non-null    object\n",
      " 3   M-II     716 non-null    object\n",
      " 4   PP       716 non-null    object\n",
      " 5   BEEE     716 non-null    object\n",
      " 6   FL       715 non-null    object\n",
      " 7   FIMS     716 non-null    object\n",
      "dtypes: int64(1), object(7)\n",
      "memory usage: 45.0+ KB\n"
     ]
    }
   ],
   "source": [
    "a.info()"
   ]
  },
  {
   "cell_type": "code",
   "execution_count": 332,
   "id": "0a1cdac7-dd4b-450a-8f17-cbfaf91e056b",
   "metadata": {},
   "outputs": [
    {
     "data": {
      "text/plain": [
       "(718, 8)"
      ]
     },
     "execution_count": 332,
     "metadata": {},
     "output_type": "execute_result"
    }
   ],
   "source": [
    "a.shape"
   ]
  },
  {
   "cell_type": "markdown",
   "id": "487c005a-37aa-49a0-8ffe-018b4fb01631",
   "metadata": {},
   "source": [
    "**Data cleaning **"
   ]
  },
  {
   "cell_type": "code",
   "execution_count": 334,
   "id": "b1695894-6f03-4315-9882-31be8d3359ac",
   "metadata": {},
   "outputs": [
    {
     "data": {
      "text/html": [
       "<div>\n",
       "<style scoped>\n",
       "    .dataframe tbody tr th:only-of-type {\n",
       "        vertical-align: middle;\n",
       "    }\n",
       "\n",
       "    .dataframe tbody tr th {\n",
       "        vertical-align: top;\n",
       "    }\n",
       "\n",
       "    .dataframe thead th {\n",
       "        text-align: right;\n",
       "    }\n",
       "</style>\n",
       "<table border=\"1\" class=\"dataframe\">\n",
       "  <thead>\n",
       "    <tr style=\"text-align: right;\">\n",
       "      <th></th>\n",
       "      <th>S.NO</th>\n",
       "      <th>SECTION</th>\n",
       "      <th>DV</th>\n",
       "      <th>M-II</th>\n",
       "      <th>PP</th>\n",
       "      <th>BEEE</th>\n",
       "      <th>FL</th>\n",
       "      <th>FIMS</th>\n",
       "    </tr>\n",
       "  </thead>\n",
       "  <tbody>\n",
       "    <tr>\n",
       "      <th>0</th>\n",
       "      <td>1</td>\n",
       "      <td>ALPHA</td>\n",
       "      <td>12</td>\n",
       "      <td>0</td>\n",
       "      <td>17</td>\n",
       "      <td>9</td>\n",
       "      <td>19</td>\n",
       "      <td>15</td>\n",
       "    </tr>\n",
       "    <tr>\n",
       "      <th>1</th>\n",
       "      <td>2</td>\n",
       "      <td>ALPHA</td>\n",
       "      <td>19</td>\n",
       "      <td>12</td>\n",
       "      <td>16</td>\n",
       "      <td>16</td>\n",
       "      <td>18</td>\n",
       "      <td>3</td>\n",
       "    </tr>\n",
       "    <tr>\n",
       "      <th>2</th>\n",
       "      <td>3</td>\n",
       "      <td>ALPHA</td>\n",
       "      <td>18</td>\n",
       "      <td>14</td>\n",
       "      <td>18</td>\n",
       "      <td>18</td>\n",
       "      <td>18</td>\n",
       "      <td>16</td>\n",
       "    </tr>\n",
       "    <tr>\n",
       "      <th>3</th>\n",
       "      <td>4</td>\n",
       "      <td>ALPHA</td>\n",
       "      <td>15</td>\n",
       "      <td>9</td>\n",
       "      <td>19</td>\n",
       "      <td>17</td>\n",
       "      <td>19</td>\n",
       "      <td>15</td>\n",
       "    </tr>\n",
       "    <tr>\n",
       "      <th>4</th>\n",
       "      <td>5</td>\n",
       "      <td>ALPHA</td>\n",
       "      <td>18</td>\n",
       "      <td>17</td>\n",
       "      <td>19</td>\n",
       "      <td>19</td>\n",
       "      <td>20</td>\n",
       "      <td>18</td>\n",
       "    </tr>\n",
       "    <tr>\n",
       "      <th>...</th>\n",
       "      <td>...</td>\n",
       "      <td>...</td>\n",
       "      <td>...</td>\n",
       "      <td>...</td>\n",
       "      <td>...</td>\n",
       "      <td>...</td>\n",
       "      <td>...</td>\n",
       "      <td>...</td>\n",
       "    </tr>\n",
       "    <tr>\n",
       "      <th>713</th>\n",
       "      <td>714</td>\n",
       "      <td>ZETA</td>\n",
       "      <td>19</td>\n",
       "      <td>8</td>\n",
       "      <td>8</td>\n",
       "      <td>19</td>\n",
       "      <td>17</td>\n",
       "      <td>18</td>\n",
       "    </tr>\n",
       "    <tr>\n",
       "      <th>714</th>\n",
       "      <td>715</td>\n",
       "      <td>ZETA</td>\n",
       "      <td>12</td>\n",
       "      <td>1</td>\n",
       "      <td>7</td>\n",
       "      <td>10</td>\n",
       "      <td>20</td>\n",
       "      <td>8</td>\n",
       "    </tr>\n",
       "    <tr>\n",
       "      <th>715</th>\n",
       "      <td>716</td>\n",
       "      <td>ZETA</td>\n",
       "      <td>17</td>\n",
       "      <td>6</td>\n",
       "      <td>14</td>\n",
       "      <td>14</td>\n",
       "      <td>17</td>\n",
       "      <td>18</td>\n",
       "    </tr>\n",
       "    <tr>\n",
       "      <th>716</th>\n",
       "      <td>717</td>\n",
       "      <td>ZETA</td>\n",
       "      <td>12</td>\n",
       "      <td>1</td>\n",
       "      <td>6</td>\n",
       "      <td>7</td>\n",
       "      <td>15</td>\n",
       "      <td>12</td>\n",
       "    </tr>\n",
       "    <tr>\n",
       "      <th>717</th>\n",
       "      <td>718</td>\n",
       "      <td>ZETA</td>\n",
       "      <td>19</td>\n",
       "      <td>14</td>\n",
       "      <td>17</td>\n",
       "      <td>16</td>\n",
       "      <td>20</td>\n",
       "      <td>19</td>\n",
       "    </tr>\n",
       "  </tbody>\n",
       "</table>\n",
       "<p>718 rows × 8 columns</p>\n",
       "</div>"
      ],
      "text/plain": [
       "     S.NO SECTION  DV M-II  PP BEEE  FL FIMS\n",
       "0       1   ALPHA  12    0  17    9  19   15\n",
       "1       2   ALPHA  19   12  16   16  18    3\n",
       "2       3   ALPHA  18   14  18   18  18   16\n",
       "3       4   ALPHA  15    9  19   17  19   15\n",
       "4       5   ALPHA  18   17  19   19  20   18\n",
       "..    ...     ...  ..  ...  ..  ...  ..  ...\n",
       "713   714    ZETA  19    8   8   19  17   18\n",
       "714   715    ZETA  12    1   7   10  20    8\n",
       "715   716    ZETA  17    6  14   14  17   18\n",
       "716   717    ZETA  12    1   6    7  15   12\n",
       "717   718    ZETA  19   14  17   16  20   19\n",
       "\n",
       "[718 rows x 8 columns]"
      ]
     },
     "execution_count": 334,
     "metadata": {},
     "output_type": "execute_result"
    }
   ],
   "source": [
    "a[\"SECTION\"]=a[\"SECTION\"].fillna(\"ZETA\")\n",
    "a[\"SECTION\"]=a[\"SECTION\"].replace(\" \",\"ZETA\")\n",
    "a"
   ]
  },
  {
   "cell_type": "code",
   "execution_count": 335,
   "id": "b7d87bf6-26e5-4ef9-9c05-2a71217cbf1e",
   "metadata": {},
   "outputs": [
    {
     "data": {
      "text/html": [
       "<div>\n",
       "<style scoped>\n",
       "    .dataframe tbody tr th:only-of-type {\n",
       "        vertical-align: middle;\n",
       "    }\n",
       "\n",
       "    .dataframe tbody tr th {\n",
       "        vertical-align: top;\n",
       "    }\n",
       "\n",
       "    .dataframe thead th {\n",
       "        text-align: right;\n",
       "    }\n",
       "</style>\n",
       "<table border=\"1\" class=\"dataframe\">\n",
       "  <thead>\n",
       "    <tr style=\"text-align: right;\">\n",
       "      <th></th>\n",
       "      <th>S.NO</th>\n",
       "      <th>SECTION</th>\n",
       "      <th>DV</th>\n",
       "      <th>M</th>\n",
       "      <th>PP</th>\n",
       "      <th>BEEE</th>\n",
       "      <th>FL</th>\n",
       "      <th>FIMS</th>\n",
       "    </tr>\n",
       "  </thead>\n",
       "  <tbody>\n",
       "    <tr>\n",
       "      <th>0</th>\n",
       "      <td>1</td>\n",
       "      <td>ALPHA</td>\n",
       "      <td>12</td>\n",
       "      <td>0</td>\n",
       "      <td>17</td>\n",
       "      <td>9</td>\n",
       "      <td>19</td>\n",
       "      <td>15</td>\n",
       "    </tr>\n",
       "    <tr>\n",
       "      <th>1</th>\n",
       "      <td>2</td>\n",
       "      <td>ALPHA</td>\n",
       "      <td>19</td>\n",
       "      <td>12</td>\n",
       "      <td>16</td>\n",
       "      <td>16</td>\n",
       "      <td>18</td>\n",
       "      <td>3</td>\n",
       "    </tr>\n",
       "    <tr>\n",
       "      <th>2</th>\n",
       "      <td>3</td>\n",
       "      <td>ALPHA</td>\n",
       "      <td>18</td>\n",
       "      <td>14</td>\n",
       "      <td>18</td>\n",
       "      <td>18</td>\n",
       "      <td>18</td>\n",
       "      <td>16</td>\n",
       "    </tr>\n",
       "    <tr>\n",
       "      <th>3</th>\n",
       "      <td>4</td>\n",
       "      <td>ALPHA</td>\n",
       "      <td>15</td>\n",
       "      <td>9</td>\n",
       "      <td>19</td>\n",
       "      <td>17</td>\n",
       "      <td>19</td>\n",
       "      <td>15</td>\n",
       "    </tr>\n",
       "    <tr>\n",
       "      <th>4</th>\n",
       "      <td>5</td>\n",
       "      <td>ALPHA</td>\n",
       "      <td>18</td>\n",
       "      <td>17</td>\n",
       "      <td>19</td>\n",
       "      <td>19</td>\n",
       "      <td>20</td>\n",
       "      <td>18</td>\n",
       "    </tr>\n",
       "    <tr>\n",
       "      <th>...</th>\n",
       "      <td>...</td>\n",
       "      <td>...</td>\n",
       "      <td>...</td>\n",
       "      <td>...</td>\n",
       "      <td>...</td>\n",
       "      <td>...</td>\n",
       "      <td>...</td>\n",
       "      <td>...</td>\n",
       "    </tr>\n",
       "    <tr>\n",
       "      <th>713</th>\n",
       "      <td>714</td>\n",
       "      <td>ZETA</td>\n",
       "      <td>19</td>\n",
       "      <td>8</td>\n",
       "      <td>8</td>\n",
       "      <td>19</td>\n",
       "      <td>17</td>\n",
       "      <td>18</td>\n",
       "    </tr>\n",
       "    <tr>\n",
       "      <th>714</th>\n",
       "      <td>715</td>\n",
       "      <td>ZETA</td>\n",
       "      <td>12</td>\n",
       "      <td>1</td>\n",
       "      <td>7</td>\n",
       "      <td>10</td>\n",
       "      <td>20</td>\n",
       "      <td>8</td>\n",
       "    </tr>\n",
       "    <tr>\n",
       "      <th>715</th>\n",
       "      <td>716</td>\n",
       "      <td>ZETA</td>\n",
       "      <td>17</td>\n",
       "      <td>6</td>\n",
       "      <td>14</td>\n",
       "      <td>14</td>\n",
       "      <td>17</td>\n",
       "      <td>18</td>\n",
       "    </tr>\n",
       "    <tr>\n",
       "      <th>716</th>\n",
       "      <td>717</td>\n",
       "      <td>ZETA</td>\n",
       "      <td>12</td>\n",
       "      <td>1</td>\n",
       "      <td>6</td>\n",
       "      <td>7</td>\n",
       "      <td>15</td>\n",
       "      <td>12</td>\n",
       "    </tr>\n",
       "    <tr>\n",
       "      <th>717</th>\n",
       "      <td>718</td>\n",
       "      <td>ZETA</td>\n",
       "      <td>19</td>\n",
       "      <td>14</td>\n",
       "      <td>17</td>\n",
       "      <td>16</td>\n",
       "      <td>20</td>\n",
       "      <td>19</td>\n",
       "    </tr>\n",
       "  </tbody>\n",
       "</table>\n",
       "<p>718 rows × 8 columns</p>\n",
       "</div>"
      ],
      "text/plain": [
       "     S.NO SECTION  DV   M  PP BEEE  FL FIMS\n",
       "0       1   ALPHA  12   0  17    9  19   15\n",
       "1       2   ALPHA  19  12  16   16  18    3\n",
       "2       3   ALPHA  18  14  18   18  18   16\n",
       "3       4   ALPHA  15   9  19   17  19   15\n",
       "4       5   ALPHA  18  17  19   19  20   18\n",
       "..    ...     ...  ..  ..  ..  ...  ..  ...\n",
       "713   714    ZETA  19   8   8   19  17   18\n",
       "714   715    ZETA  12   1   7   10  20    8\n",
       "715   716    ZETA  17   6  14   14  17   18\n",
       "716   717    ZETA  12   1   6    7  15   12\n",
       "717   718    ZETA  19  14  17   16  20   19\n",
       "\n",
       "[718 rows x 8 columns]"
      ]
     },
     "execution_count": 335,
     "metadata": {},
     "output_type": "execute_result"
    }
   ],
   "source": [
    "a.rename(columns={\"M-II\":\"M\"},inplace=True)\n",
    "a"
   ]
  },
  {
   "cell_type": "code",
   "execution_count": 336,
   "id": "bbf1db5f-a6ed-4676-bec1-b674c2ca3e95",
   "metadata": {},
   "outputs": [
    {
     "data": {
      "text/html": [
       "<div>\n",
       "<style scoped>\n",
       "    .dataframe tbody tr th:only-of-type {\n",
       "        vertical-align: middle;\n",
       "    }\n",
       "\n",
       "    .dataframe tbody tr th {\n",
       "        vertical-align: top;\n",
       "    }\n",
       "\n",
       "    .dataframe thead th {\n",
       "        text-align: right;\n",
       "    }\n",
       "</style>\n",
       "<table border=\"1\" class=\"dataframe\">\n",
       "  <thead>\n",
       "    <tr style=\"text-align: right;\">\n",
       "      <th></th>\n",
       "      <th>S.NO</th>\n",
       "      <th>SECTION</th>\n",
       "      <th>DV</th>\n",
       "      <th>M</th>\n",
       "      <th>PP</th>\n",
       "      <th>BEEE</th>\n",
       "      <th>FL</th>\n",
       "      <th>FIMS</th>\n",
       "    </tr>\n",
       "  </thead>\n",
       "  <tbody>\n",
       "    <tr>\n",
       "      <th>0</th>\n",
       "      <td>1</td>\n",
       "      <td>ALPHA</td>\n",
       "      <td>12.0</td>\n",
       "      <td>0.0</td>\n",
       "      <td>17.0</td>\n",
       "      <td>9.0</td>\n",
       "      <td>19.0</td>\n",
       "      <td>15.0</td>\n",
       "    </tr>\n",
       "    <tr>\n",
       "      <th>1</th>\n",
       "      <td>2</td>\n",
       "      <td>ALPHA</td>\n",
       "      <td>19.0</td>\n",
       "      <td>12.0</td>\n",
       "      <td>16.0</td>\n",
       "      <td>16.0</td>\n",
       "      <td>18.0</td>\n",
       "      <td>3.0</td>\n",
       "    </tr>\n",
       "    <tr>\n",
       "      <th>2</th>\n",
       "      <td>3</td>\n",
       "      <td>ALPHA</td>\n",
       "      <td>18.0</td>\n",
       "      <td>14.0</td>\n",
       "      <td>18.0</td>\n",
       "      <td>18.0</td>\n",
       "      <td>18.0</td>\n",
       "      <td>16.0</td>\n",
       "    </tr>\n",
       "    <tr>\n",
       "      <th>3</th>\n",
       "      <td>4</td>\n",
       "      <td>ALPHA</td>\n",
       "      <td>15.0</td>\n",
       "      <td>9.0</td>\n",
       "      <td>19.0</td>\n",
       "      <td>17.0</td>\n",
       "      <td>19.0</td>\n",
       "      <td>15.0</td>\n",
       "    </tr>\n",
       "    <tr>\n",
       "      <th>4</th>\n",
       "      <td>5</td>\n",
       "      <td>ALPHA</td>\n",
       "      <td>18.0</td>\n",
       "      <td>17.0</td>\n",
       "      <td>19.0</td>\n",
       "      <td>19.0</td>\n",
       "      <td>20.0</td>\n",
       "      <td>18.0</td>\n",
       "    </tr>\n",
       "    <tr>\n",
       "      <th>...</th>\n",
       "      <td>...</td>\n",
       "      <td>...</td>\n",
       "      <td>...</td>\n",
       "      <td>...</td>\n",
       "      <td>...</td>\n",
       "      <td>...</td>\n",
       "      <td>...</td>\n",
       "      <td>...</td>\n",
       "    </tr>\n",
       "    <tr>\n",
       "      <th>713</th>\n",
       "      <td>714</td>\n",
       "      <td>ZETA</td>\n",
       "      <td>19.0</td>\n",
       "      <td>8.0</td>\n",
       "      <td>8.0</td>\n",
       "      <td>19.0</td>\n",
       "      <td>17.0</td>\n",
       "      <td>18.0</td>\n",
       "    </tr>\n",
       "    <tr>\n",
       "      <th>714</th>\n",
       "      <td>715</td>\n",
       "      <td>ZETA</td>\n",
       "      <td>12.0</td>\n",
       "      <td>1.0</td>\n",
       "      <td>7.0</td>\n",
       "      <td>10.0</td>\n",
       "      <td>20.0</td>\n",
       "      <td>8.0</td>\n",
       "    </tr>\n",
       "    <tr>\n",
       "      <th>715</th>\n",
       "      <td>716</td>\n",
       "      <td>ZETA</td>\n",
       "      <td>17.0</td>\n",
       "      <td>6.0</td>\n",
       "      <td>14.0</td>\n",
       "      <td>14.0</td>\n",
       "      <td>17.0</td>\n",
       "      <td>18.0</td>\n",
       "    </tr>\n",
       "    <tr>\n",
       "      <th>716</th>\n",
       "      <td>717</td>\n",
       "      <td>ZETA</td>\n",
       "      <td>12.0</td>\n",
       "      <td>1.0</td>\n",
       "      <td>6.0</td>\n",
       "      <td>7.0</td>\n",
       "      <td>15.0</td>\n",
       "      <td>12.0</td>\n",
       "    </tr>\n",
       "    <tr>\n",
       "      <th>717</th>\n",
       "      <td>718</td>\n",
       "      <td>ZETA</td>\n",
       "      <td>19.0</td>\n",
       "      <td>14.0</td>\n",
       "      <td>17.0</td>\n",
       "      <td>16.0</td>\n",
       "      <td>20.0</td>\n",
       "      <td>19.0</td>\n",
       "    </tr>\n",
       "  </tbody>\n",
       "</table>\n",
       "<p>718 rows × 8 columns</p>\n",
       "</div>"
      ],
      "text/plain": [
       "     S.NO SECTION    DV     M    PP  BEEE    FL  FIMS\n",
       "0       1   ALPHA  12.0   0.0  17.0   9.0  19.0  15.0\n",
       "1       2   ALPHA  19.0  12.0  16.0  16.0  18.0   3.0\n",
       "2       3   ALPHA  18.0  14.0  18.0  18.0  18.0  16.0\n",
       "3       4   ALPHA  15.0   9.0  19.0  17.0  19.0  15.0\n",
       "4       5   ALPHA  18.0  17.0  19.0  19.0  20.0  18.0\n",
       "..    ...     ...   ...   ...   ...   ...   ...   ...\n",
       "713   714    ZETA  19.0   8.0   8.0  19.0  17.0  18.0\n",
       "714   715    ZETA  12.0   1.0   7.0  10.0  20.0   8.0\n",
       "715   716    ZETA  17.0   6.0  14.0  14.0  17.0  18.0\n",
       "716   717    ZETA  12.0   1.0   6.0   7.0  15.0  12.0\n",
       "717   718    ZETA  19.0  14.0  17.0  16.0  20.0  19.0\n",
       "\n",
       "[718 rows x 8 columns]"
      ]
     },
     "execution_count": 336,
     "metadata": {},
     "output_type": "execute_result"
    }
   ],
   "source": [
    "a=a.replace(\"MP\",0)\n",
    "a=a.replace(\"A\",0)\n",
    "a=a.replace(\"AB\",0)\n",
    "a=a.replace(\"o\",-4)\n",
    "a=a.replace(\"II\",2)\n",
    "a=a.replace(\"I\",1)\n",
    "a[\"FL\"]=a[\"FL\"].fillna(0)\n",
    "a"
   ]
  },
  {
   "cell_type": "code",
   "execution_count": 337,
   "id": "04de0c3a-f23b-49f0-952c-f71afec60a42",
   "metadata": {},
   "outputs": [
    {
     "data": {
      "text/plain": [
       "S.NO       718\n",
       "SECTION    718\n",
       "DV         716\n",
       "M          716\n",
       "PP         716\n",
       "BEEE       716\n",
       "FL         718\n",
       "FIMS       716\n",
       "dtype: int64"
      ]
     },
     "execution_count": 337,
     "metadata": {},
     "output_type": "execute_result"
    }
   ],
   "source": [
    "a.count()"
   ]
  },
  {
   "cell_type": "code",
   "execution_count": 338,
   "id": "ebbbeb35-5fa6-4fb9-b971-ad3515b58bc9",
   "metadata": {},
   "outputs": [
    {
     "data": {
      "text/plain": [
       "M\n",
       "20.0    69\n",
       "0.0     62\n",
       "3.0     51\n",
       "17.0    42\n",
       "8.0     41\n",
       "1.0     37\n",
       "15.0    35\n",
       "11.0    33\n",
       "12.0    31\n",
       "6.0     31\n",
       "4.0     30\n",
       "10.0    29\n",
       "18.0    29\n",
       "5.0     29\n",
       "19.0    28\n",
       "13.0    26\n",
       "9.0     25\n",
       "14.0    25\n",
       "16.0    22\n",
       "7.0     22\n",
       "2.0     19\n",
       "Name: count, dtype: int64"
      ]
     },
     "execution_count": 338,
     "metadata": {},
     "output_type": "execute_result"
    }
   ],
   "source": [
    "a[\"M\"].value_counts()"
   ]
  },
  {
   "cell_type": "code",
   "execution_count": 339,
   "id": "33a85d1f-33cb-4fd0-9c7b-53e1edebae08",
   "metadata": {},
   "outputs": [
    {
     "data": {
      "text/html": [
       "<div>\n",
       "<style scoped>\n",
       "    .dataframe tbody tr th:only-of-type {\n",
       "        vertical-align: middle;\n",
       "    }\n",
       "\n",
       "    .dataframe tbody tr th {\n",
       "        vertical-align: top;\n",
       "    }\n",
       "\n",
       "    .dataframe thead th {\n",
       "        text-align: right;\n",
       "    }\n",
       "</style>\n",
       "<table border=\"1\" class=\"dataframe\">\n",
       "  <thead>\n",
       "    <tr style=\"text-align: right;\">\n",
       "      <th></th>\n",
       "      <th>S.NO</th>\n",
       "      <th>SECTION</th>\n",
       "      <th>DV</th>\n",
       "      <th>M</th>\n",
       "      <th>PP</th>\n",
       "      <th>BEEE</th>\n",
       "      <th>FL</th>\n",
       "      <th>FIMS</th>\n",
       "    </tr>\n",
       "  </thead>\n",
       "  <tbody>\n",
       "    <tr>\n",
       "      <th>0</th>\n",
       "      <td>1</td>\n",
       "      <td>ALPHA</td>\n",
       "      <td>12.0</td>\n",
       "      <td>0.0</td>\n",
       "      <td>17.0</td>\n",
       "      <td>9.0</td>\n",
       "      <td>19.0</td>\n",
       "      <td>15.0</td>\n",
       "    </tr>\n",
       "    <tr>\n",
       "      <th>1</th>\n",
       "      <td>2</td>\n",
       "      <td>ALPHA</td>\n",
       "      <td>19.0</td>\n",
       "      <td>12.0</td>\n",
       "      <td>16.0</td>\n",
       "      <td>16.0</td>\n",
       "      <td>18.0</td>\n",
       "      <td>3.0</td>\n",
       "    </tr>\n",
       "    <tr>\n",
       "      <th>2</th>\n",
       "      <td>3</td>\n",
       "      <td>ALPHA</td>\n",
       "      <td>18.0</td>\n",
       "      <td>14.0</td>\n",
       "      <td>18.0</td>\n",
       "      <td>18.0</td>\n",
       "      <td>18.0</td>\n",
       "      <td>16.0</td>\n",
       "    </tr>\n",
       "    <tr>\n",
       "      <th>3</th>\n",
       "      <td>4</td>\n",
       "      <td>ALPHA</td>\n",
       "      <td>15.0</td>\n",
       "      <td>9.0</td>\n",
       "      <td>19.0</td>\n",
       "      <td>17.0</td>\n",
       "      <td>19.0</td>\n",
       "      <td>15.0</td>\n",
       "    </tr>\n",
       "    <tr>\n",
       "      <th>4</th>\n",
       "      <td>5</td>\n",
       "      <td>ALPHA</td>\n",
       "      <td>18.0</td>\n",
       "      <td>17.0</td>\n",
       "      <td>19.0</td>\n",
       "      <td>19.0</td>\n",
       "      <td>20.0</td>\n",
       "      <td>18.0</td>\n",
       "    </tr>\n",
       "    <tr>\n",
       "      <th>...</th>\n",
       "      <td>...</td>\n",
       "      <td>...</td>\n",
       "      <td>...</td>\n",
       "      <td>...</td>\n",
       "      <td>...</td>\n",
       "      <td>...</td>\n",
       "      <td>...</td>\n",
       "      <td>...</td>\n",
       "    </tr>\n",
       "    <tr>\n",
       "      <th>713</th>\n",
       "      <td>714</td>\n",
       "      <td>ZETA</td>\n",
       "      <td>19.0</td>\n",
       "      <td>8.0</td>\n",
       "      <td>8.0</td>\n",
       "      <td>19.0</td>\n",
       "      <td>17.0</td>\n",
       "      <td>18.0</td>\n",
       "    </tr>\n",
       "    <tr>\n",
       "      <th>714</th>\n",
       "      <td>715</td>\n",
       "      <td>ZETA</td>\n",
       "      <td>12.0</td>\n",
       "      <td>1.0</td>\n",
       "      <td>7.0</td>\n",
       "      <td>10.0</td>\n",
       "      <td>20.0</td>\n",
       "      <td>8.0</td>\n",
       "    </tr>\n",
       "    <tr>\n",
       "      <th>715</th>\n",
       "      <td>716</td>\n",
       "      <td>ZETA</td>\n",
       "      <td>17.0</td>\n",
       "      <td>6.0</td>\n",
       "      <td>14.0</td>\n",
       "      <td>14.0</td>\n",
       "      <td>17.0</td>\n",
       "      <td>18.0</td>\n",
       "    </tr>\n",
       "    <tr>\n",
       "      <th>716</th>\n",
       "      <td>717</td>\n",
       "      <td>ZETA</td>\n",
       "      <td>12.0</td>\n",
       "      <td>1.0</td>\n",
       "      <td>6.0</td>\n",
       "      <td>7.0</td>\n",
       "      <td>15.0</td>\n",
       "      <td>12.0</td>\n",
       "    </tr>\n",
       "    <tr>\n",
       "      <th>717</th>\n",
       "      <td>718</td>\n",
       "      <td>ZETA</td>\n",
       "      <td>19.0</td>\n",
       "      <td>14.0</td>\n",
       "      <td>17.0</td>\n",
       "      <td>16.0</td>\n",
       "      <td>20.0</td>\n",
       "      <td>19.0</td>\n",
       "    </tr>\n",
       "  </tbody>\n",
       "</table>\n",
       "<p>716 rows × 8 columns</p>\n",
       "</div>"
      ],
      "text/plain": [
       "     S.NO SECTION    DV     M    PP  BEEE    FL  FIMS\n",
       "0       1   ALPHA  12.0   0.0  17.0   9.0  19.0  15.0\n",
       "1       2   ALPHA  19.0  12.0  16.0  16.0  18.0   3.0\n",
       "2       3   ALPHA  18.0  14.0  18.0  18.0  18.0  16.0\n",
       "3       4   ALPHA  15.0   9.0  19.0  17.0  19.0  15.0\n",
       "4       5   ALPHA  18.0  17.0  19.0  19.0  20.0  18.0\n",
       "..    ...     ...   ...   ...   ...   ...   ...   ...\n",
       "713   714    ZETA  19.0   8.0   8.0  19.0  17.0  18.0\n",
       "714   715    ZETA  12.0   1.0   7.0  10.0  20.0   8.0\n",
       "715   716    ZETA  17.0   6.0  14.0  14.0  17.0  18.0\n",
       "716   717    ZETA  12.0   1.0   6.0   7.0  15.0  12.0\n",
       "717   718    ZETA  19.0  14.0  17.0  16.0  20.0  19.0\n",
       "\n",
       "[716 rows x 8 columns]"
      ]
     },
     "execution_count": 339,
     "metadata": {},
     "output_type": "execute_result"
    }
   ],
   "source": [
    "a=a.dropna()\n",
    "a"
   ]
  },
  {
   "cell_type": "code",
   "execution_count": 340,
   "id": "4a5aa668-2570-4ed0-a805-199eb8cb0ac9",
   "metadata": {},
   "outputs": [
    {
     "data": {
      "text/plain": [
       "(716, 8)"
      ]
     },
     "execution_count": 340,
     "metadata": {},
     "output_type": "execute_result"
    }
   ],
   "source": [
    "a.shape\n"
   ]
  },
  {
   "cell_type": "code",
   "execution_count": 341,
   "id": "e75c114f-fd6e-45a4-b54f-93083592ffd5",
   "metadata": {},
   "outputs": [
    {
     "data": {
      "text/html": [
       "<div>\n",
       "<style scoped>\n",
       "    .dataframe tbody tr th:only-of-type {\n",
       "        vertical-align: middle;\n",
       "    }\n",
       "\n",
       "    .dataframe tbody tr th {\n",
       "        vertical-align: top;\n",
       "    }\n",
       "\n",
       "    .dataframe thead th {\n",
       "        text-align: right;\n",
       "    }\n",
       "</style>\n",
       "<table border=\"1\" class=\"dataframe\">\n",
       "  <thead>\n",
       "    <tr style=\"text-align: right;\">\n",
       "      <th></th>\n",
       "      <th>S.NO</th>\n",
       "      <th>SECTION</th>\n",
       "      <th>DV</th>\n",
       "      <th>M</th>\n",
       "      <th>PP</th>\n",
       "      <th>BEEE</th>\n",
       "      <th>FL</th>\n",
       "      <th>FIMS</th>\n",
       "    </tr>\n",
       "  </thead>\n",
       "  <tbody>\n",
       "    <tr>\n",
       "      <th>0</th>\n",
       "      <td>1</td>\n",
       "      <td>ALPHA</td>\n",
       "      <td>12.0</td>\n",
       "      <td>0.0</td>\n",
       "      <td>17.0</td>\n",
       "      <td>9.0</td>\n",
       "      <td>19.0</td>\n",
       "      <td>15.0</td>\n",
       "    </tr>\n",
       "    <tr>\n",
       "      <th>1</th>\n",
       "      <td>2</td>\n",
       "      <td>ALPHA</td>\n",
       "      <td>19.0</td>\n",
       "      <td>12.0</td>\n",
       "      <td>16.0</td>\n",
       "      <td>16.0</td>\n",
       "      <td>18.0</td>\n",
       "      <td>3.0</td>\n",
       "    </tr>\n",
       "    <tr>\n",
       "      <th>2</th>\n",
       "      <td>3</td>\n",
       "      <td>ALPHA</td>\n",
       "      <td>18.0</td>\n",
       "      <td>14.0</td>\n",
       "      <td>18.0</td>\n",
       "      <td>18.0</td>\n",
       "      <td>18.0</td>\n",
       "      <td>16.0</td>\n",
       "    </tr>\n",
       "    <tr>\n",
       "      <th>3</th>\n",
       "      <td>4</td>\n",
       "      <td>ALPHA</td>\n",
       "      <td>15.0</td>\n",
       "      <td>9.0</td>\n",
       "      <td>19.0</td>\n",
       "      <td>17.0</td>\n",
       "      <td>19.0</td>\n",
       "      <td>15.0</td>\n",
       "    </tr>\n",
       "    <tr>\n",
       "      <th>4</th>\n",
       "      <td>5</td>\n",
       "      <td>ALPHA</td>\n",
       "      <td>18.0</td>\n",
       "      <td>17.0</td>\n",
       "      <td>19.0</td>\n",
       "      <td>19.0</td>\n",
       "      <td>20.0</td>\n",
       "      <td>18.0</td>\n",
       "    </tr>\n",
       "    <tr>\n",
       "      <th>...</th>\n",
       "      <td>...</td>\n",
       "      <td>...</td>\n",
       "      <td>...</td>\n",
       "      <td>...</td>\n",
       "      <td>...</td>\n",
       "      <td>...</td>\n",
       "      <td>...</td>\n",
       "      <td>...</td>\n",
       "    </tr>\n",
       "    <tr>\n",
       "      <th>713</th>\n",
       "      <td>714</td>\n",
       "      <td>ZETA</td>\n",
       "      <td>19.0</td>\n",
       "      <td>8.0</td>\n",
       "      <td>8.0</td>\n",
       "      <td>19.0</td>\n",
       "      <td>17.0</td>\n",
       "      <td>18.0</td>\n",
       "    </tr>\n",
       "    <tr>\n",
       "      <th>714</th>\n",
       "      <td>715</td>\n",
       "      <td>ZETA</td>\n",
       "      <td>12.0</td>\n",
       "      <td>1.0</td>\n",
       "      <td>7.0</td>\n",
       "      <td>10.0</td>\n",
       "      <td>20.0</td>\n",
       "      <td>8.0</td>\n",
       "    </tr>\n",
       "    <tr>\n",
       "      <th>715</th>\n",
       "      <td>716</td>\n",
       "      <td>ZETA</td>\n",
       "      <td>17.0</td>\n",
       "      <td>6.0</td>\n",
       "      <td>14.0</td>\n",
       "      <td>14.0</td>\n",
       "      <td>17.0</td>\n",
       "      <td>18.0</td>\n",
       "    </tr>\n",
       "    <tr>\n",
       "      <th>716</th>\n",
       "      <td>717</td>\n",
       "      <td>ZETA</td>\n",
       "      <td>12.0</td>\n",
       "      <td>1.0</td>\n",
       "      <td>6.0</td>\n",
       "      <td>7.0</td>\n",
       "      <td>15.0</td>\n",
       "      <td>12.0</td>\n",
       "    </tr>\n",
       "    <tr>\n",
       "      <th>717</th>\n",
       "      <td>718</td>\n",
       "      <td>ZETA</td>\n",
       "      <td>19.0</td>\n",
       "      <td>14.0</td>\n",
       "      <td>17.0</td>\n",
       "      <td>16.0</td>\n",
       "      <td>20.0</td>\n",
       "      <td>19.0</td>\n",
       "    </tr>\n",
       "  </tbody>\n",
       "</table>\n",
       "<p>716 rows × 8 columns</p>\n",
       "</div>"
      ],
      "text/plain": [
       "     S.NO SECTION    DV     M    PP  BEEE    FL  FIMS\n",
       "0       1   ALPHA  12.0   0.0  17.0   9.0  19.0  15.0\n",
       "1       2   ALPHA  19.0  12.0  16.0  16.0  18.0   3.0\n",
       "2       3   ALPHA  18.0  14.0  18.0  18.0  18.0  16.0\n",
       "3       4   ALPHA  15.0   9.0  19.0  17.0  19.0  15.0\n",
       "4       5   ALPHA  18.0  17.0  19.0  19.0  20.0  18.0\n",
       "..    ...     ...   ...   ...   ...   ...   ...   ...\n",
       "713   714    ZETA  19.0   8.0   8.0  19.0  17.0  18.0\n",
       "714   715    ZETA  12.0   1.0   7.0  10.0  20.0   8.0\n",
       "715   716    ZETA  17.0   6.0  14.0  14.0  17.0  18.0\n",
       "716   717    ZETA  12.0   1.0   6.0   7.0  15.0  12.0\n",
       "717   718    ZETA  19.0  14.0  17.0  16.0  20.0  19.0\n",
       "\n",
       "[716 rows x 8 columns]"
      ]
     },
     "execution_count": 341,
     "metadata": {},
     "output_type": "execute_result"
    }
   ],
   "source": [
    "a=a.replace(\"MP\",0)\n",
    "a=a.replace(\"A\",0)\n",
    "a=a.replace(\"AB\",0)\n",
    "a=a.replace(\"o\",0)\n",
    "a=a.replace(\"II\",2)\n",
    "a=a.replace(\"I\",1)\n",
    "\n",
    "a"
   ]
  },
  {
   "cell_type": "code",
   "execution_count": 342,
   "id": "08a3f8f9-5825-4e25-a286-94ebfa71bb1d",
   "metadata": {},
   "outputs": [
    {
     "name": "stdout",
     "output_type": "stream",
     "text": [
      "<class 'pandas.core.frame.DataFrame'>\n",
      "Index: 716 entries, 0 to 717\n",
      "Data columns (total 8 columns):\n",
      " #   Column   Non-Null Count  Dtype  \n",
      "---  ------   --------------  -----  \n",
      " 0   S.NO     716 non-null    int64  \n",
      " 1   SECTION  716 non-null    object \n",
      " 2   DV       716 non-null    float64\n",
      " 3   M        716 non-null    float64\n",
      " 4   PP       716 non-null    float64\n",
      " 5   BEEE     716 non-null    float64\n",
      " 6   FL       716 non-null    float64\n",
      " 7   FIMS     716 non-null    float64\n",
      "dtypes: float64(6), int64(1), object(1)\n",
      "memory usage: 50.3+ KB\n"
     ]
    }
   ],
   "source": [
    "a.info()"
   ]
  },
  {
   "cell_type": "code",
   "execution_count": 343,
   "id": "57781e75-5181-4f24-852e-4075960502a3",
   "metadata": {},
   "outputs": [
    {
     "data": {
      "text/plain": [
       "M\n",
       "20.0    69\n",
       "0.0     62\n",
       "3.0     51\n",
       "17.0    42\n",
       "8.0     41\n",
       "1.0     37\n",
       "15.0    35\n",
       "11.0    33\n",
       "12.0    31\n",
       "6.0     31\n",
       "4.0     30\n",
       "10.0    29\n",
       "18.0    29\n",
       "5.0     29\n",
       "19.0    28\n",
       "13.0    26\n",
       "9.0     25\n",
       "14.0    25\n",
       "16.0    22\n",
       "7.0     22\n",
       "2.0     19\n",
       "Name: count, dtype: int64"
      ]
     },
     "execution_count": 343,
     "metadata": {},
     "output_type": "execute_result"
    }
   ],
   "source": [
    "a[\"M\"].value_counts()"
   ]
  },
  {
   "cell_type": "code",
   "execution_count": 344,
   "id": "257ca8dd-4cd5-48f1-abb0-89cc9cdf8dd9",
   "metadata": {},
   "outputs": [],
   "source": [
    "a['DV'] = a[\"DV\"].astype(int)\n",
    "a['M'] = pd.to_numeric(a['M'], errors='coerce')\n",
    "a['PP'] = pd.to_numeric(a['PP'], errors='coerce')\n",
    "a['BEEE'] = pd.to_numeric(a['BEEE'], errors='coerce')\n",
    "a['FL'] = pd.to_numeric(a['FL'], errors='coerce')\n",
    "a['FIMS'] = pd.to_numeric(a['FIMS'], errors='coerce')\n"
   ]
  },
  {
   "cell_type": "code",
   "execution_count": 345,
   "id": "099f26a7-dfde-4e7c-bcaf-35b4e2635d20",
   "metadata": {},
   "outputs": [
    {
     "name": "stdout",
     "output_type": "stream",
     "text": [
      "<class 'pandas.core.frame.DataFrame'>\n",
      "Index: 716 entries, 0 to 717\n",
      "Data columns (total 8 columns):\n",
      " #   Column   Non-Null Count  Dtype  \n",
      "---  ------   --------------  -----  \n",
      " 0   S.NO     716 non-null    int64  \n",
      " 1   SECTION  716 non-null    object \n",
      " 2   DV       716 non-null    int32  \n",
      " 3   M        716 non-null    float64\n",
      " 4   PP       716 non-null    float64\n",
      " 5   BEEE     716 non-null    float64\n",
      " 6   FL       716 non-null    float64\n",
      " 7   FIMS     716 non-null    float64\n",
      "dtypes: float64(5), int32(1), int64(1), object(1)\n",
      "memory usage: 47.5+ KB\n"
     ]
    }
   ],
   "source": [
    "a.info()\n"
   ]
  },
  {
   "cell_type": "code",
   "execution_count": 346,
   "id": "d413b9bc-7b4a-4adc-a183-668c1bec3c28",
   "metadata": {},
   "outputs": [
    {
     "data": {
      "text/plain": [
       "DV    13.411111\n",
       "dtype: float64"
      ]
     },
     "execution_count": 346,
     "metadata": {},
     "output_type": "execute_result"
    }
   ],
   "source": [
    "zeta_data = a[a['SECTION'] == 'ALPHA']\n",
    "zeta_data = zeta_data[['DV']].mean()\n",
    "zeta_data"
   ]
  },
  {
   "cell_type": "code",
   "execution_count": 347,
   "id": "bf9cb572-d2cd-40ea-99e4-a097ba798e64",
   "metadata": {},
   "outputs": [
    {
     "data": {
      "text/plain": [
       "14.787709497206704"
      ]
     },
     "execution_count": 347,
     "metadata": {},
     "output_type": "execute_result"
    }
   ],
   "source": [
    "d=a['DV'].mean()\n",
    "d"
   ]
  },
  {
   "cell_type": "code",
   "execution_count": 348,
   "id": "5d0c0c68-5e67-4c1c-924e-b725015ffbab",
   "metadata": {},
   "outputs": [
    {
     "data": {
      "text/html": [
       "<div>\n",
       "<style scoped>\n",
       "    .dataframe tbody tr th:only-of-type {\n",
       "        vertical-align: middle;\n",
       "    }\n",
       "\n",
       "    .dataframe tbody tr th {\n",
       "        vertical-align: top;\n",
       "    }\n",
       "\n",
       "    .dataframe thead th {\n",
       "        text-align: right;\n",
       "    }\n",
       "</style>\n",
       "<table border=\"1\" class=\"dataframe\">\n",
       "  <thead>\n",
       "    <tr style=\"text-align: right;\">\n",
       "      <th></th>\n",
       "      <th>S.NO</th>\n",
       "      <th>SECTION</th>\n",
       "      <th>DV</th>\n",
       "      <th>M</th>\n",
       "      <th>PP</th>\n",
       "      <th>BEEE</th>\n",
       "      <th>FL</th>\n",
       "      <th>FIMS</th>\n",
       "      <th>backlogs</th>\n",
       "    </tr>\n",
       "  </thead>\n",
       "  <tbody>\n",
       "    <tr>\n",
       "      <th>0</th>\n",
       "      <td>1</td>\n",
       "      <td>ALPHA</td>\n",
       "      <td>12</td>\n",
       "      <td>0.0</td>\n",
       "      <td>17.0</td>\n",
       "      <td>9.0</td>\n",
       "      <td>19.0</td>\n",
       "      <td>15.0</td>\n",
       "      <td>2</td>\n",
       "    </tr>\n",
       "    <tr>\n",
       "      <th>1</th>\n",
       "      <td>2</td>\n",
       "      <td>ALPHA</td>\n",
       "      <td>19</td>\n",
       "      <td>12.0</td>\n",
       "      <td>16.0</td>\n",
       "      <td>16.0</td>\n",
       "      <td>18.0</td>\n",
       "      <td>3.0</td>\n",
       "      <td>1</td>\n",
       "    </tr>\n",
       "    <tr>\n",
       "      <th>2</th>\n",
       "      <td>3</td>\n",
       "      <td>ALPHA</td>\n",
       "      <td>18</td>\n",
       "      <td>14.0</td>\n",
       "      <td>18.0</td>\n",
       "      <td>18.0</td>\n",
       "      <td>18.0</td>\n",
       "      <td>16.0</td>\n",
       "      <td>0</td>\n",
       "    </tr>\n",
       "    <tr>\n",
       "      <th>3</th>\n",
       "      <td>4</td>\n",
       "      <td>ALPHA</td>\n",
       "      <td>15</td>\n",
       "      <td>9.0</td>\n",
       "      <td>19.0</td>\n",
       "      <td>17.0</td>\n",
       "      <td>19.0</td>\n",
       "      <td>15.0</td>\n",
       "      <td>1</td>\n",
       "    </tr>\n",
       "    <tr>\n",
       "      <th>4</th>\n",
       "      <td>5</td>\n",
       "      <td>ALPHA</td>\n",
       "      <td>18</td>\n",
       "      <td>17.0</td>\n",
       "      <td>19.0</td>\n",
       "      <td>19.0</td>\n",
       "      <td>20.0</td>\n",
       "      <td>18.0</td>\n",
       "      <td>0</td>\n",
       "    </tr>\n",
       "    <tr>\n",
       "      <th>...</th>\n",
       "      <td>...</td>\n",
       "      <td>...</td>\n",
       "      <td>...</td>\n",
       "      <td>...</td>\n",
       "      <td>...</td>\n",
       "      <td>...</td>\n",
       "      <td>...</td>\n",
       "      <td>...</td>\n",
       "      <td>...</td>\n",
       "    </tr>\n",
       "    <tr>\n",
       "      <th>713</th>\n",
       "      <td>714</td>\n",
       "      <td>ZETA</td>\n",
       "      <td>19</td>\n",
       "      <td>8.0</td>\n",
       "      <td>8.0</td>\n",
       "      <td>19.0</td>\n",
       "      <td>17.0</td>\n",
       "      <td>18.0</td>\n",
       "      <td>2</td>\n",
       "    </tr>\n",
       "    <tr>\n",
       "      <th>714</th>\n",
       "      <td>715</td>\n",
       "      <td>ZETA</td>\n",
       "      <td>12</td>\n",
       "      <td>1.0</td>\n",
       "      <td>7.0</td>\n",
       "      <td>10.0</td>\n",
       "      <td>20.0</td>\n",
       "      <td>8.0</td>\n",
       "      <td>3</td>\n",
       "    </tr>\n",
       "    <tr>\n",
       "      <th>715</th>\n",
       "      <td>716</td>\n",
       "      <td>ZETA</td>\n",
       "      <td>17</td>\n",
       "      <td>6.0</td>\n",
       "      <td>14.0</td>\n",
       "      <td>14.0</td>\n",
       "      <td>17.0</td>\n",
       "      <td>18.0</td>\n",
       "      <td>1</td>\n",
       "    </tr>\n",
       "    <tr>\n",
       "      <th>716</th>\n",
       "      <td>717</td>\n",
       "      <td>ZETA</td>\n",
       "      <td>12</td>\n",
       "      <td>1.0</td>\n",
       "      <td>6.0</td>\n",
       "      <td>7.0</td>\n",
       "      <td>15.0</td>\n",
       "      <td>12.0</td>\n",
       "      <td>3</td>\n",
       "    </tr>\n",
       "    <tr>\n",
       "      <th>717</th>\n",
       "      <td>718</td>\n",
       "      <td>ZETA</td>\n",
       "      <td>19</td>\n",
       "      <td>14.0</td>\n",
       "      <td>17.0</td>\n",
       "      <td>16.0</td>\n",
       "      <td>20.0</td>\n",
       "      <td>19.0</td>\n",
       "      <td>0</td>\n",
       "    </tr>\n",
       "  </tbody>\n",
       "</table>\n",
       "<p>716 rows × 9 columns</p>\n",
       "</div>"
      ],
      "text/plain": [
       "     S.NO SECTION  DV     M    PP  BEEE    FL  FIMS  backlogs\n",
       "0       1   ALPHA  12   0.0  17.0   9.0  19.0  15.0         2\n",
       "1       2   ALPHA  19  12.0  16.0  16.0  18.0   3.0         1\n",
       "2       3   ALPHA  18  14.0  18.0  18.0  18.0  16.0         0\n",
       "3       4   ALPHA  15   9.0  19.0  17.0  19.0  15.0         1\n",
       "4       5   ALPHA  18  17.0  19.0  19.0  20.0  18.0         0\n",
       "..    ...     ...  ..   ...   ...   ...   ...   ...       ...\n",
       "713   714    ZETA  19   8.0   8.0  19.0  17.0  18.0         2\n",
       "714   715    ZETA  12   1.0   7.0  10.0  20.0   8.0         3\n",
       "715   716    ZETA  17   6.0  14.0  14.0  17.0  18.0         1\n",
       "716   717    ZETA  12   1.0   6.0   7.0  15.0  12.0         3\n",
       "717   718    ZETA  19  14.0  17.0  16.0  20.0  19.0         0\n",
       "\n",
       "[716 rows x 9 columns]"
      ]
     },
     "execution_count": 348,
     "metadata": {},
     "output_type": "execute_result"
    }
   ],
   "source": [
    "a[\"backlogs\"] = ((a['DV'] < 10).astype(int) \n",
    "                 +(a['M'] < 10).astype(int)\n",
    "                 +(a['PP'] < 10).astype(int)\n",
    "                 +(a['BEEE'] < 10).astype(int)\n",
    "                 +(a['FL'] < 10).astype(int) \n",
    "                 +(a['FIMS'] < 10).astype(int))  \n",
    "a"
   ]
  },
  {
   "cell_type": "markdown",
   "id": "aa06b781-c362-4aee-b2f2-2c595d638ded",
   "metadata": {},
   "source": [
    "**Creation of backlog feature**"
   ]
  },
  {
   "cell_type": "code",
   "execution_count": 350,
   "id": "88210255-7475-4f2b-8966-b0bd2664be61",
   "metadata": {},
   "outputs": [
    {
     "data": {
      "text/plain": [
       "'ZETA'"
      ]
     },
     "execution_count": 350,
     "metadata": {},
     "output_type": "execute_result"
    }
   ],
   "source": [
    "pp_failures = a[a[\"PP\"] < 10]\n",
    "\n",
    "failures_by_section = pp_failures.groupby(\"SECTION\").size()\n",
    "\n",
    "most_failures = failures_by_section.idxmax()\n",
    "most_failures\n",
    "\n"
   ]
  },
  {
   "cell_type": "markdown",
   "id": "7c95d3da-1339-4056-b6cd-de5822a0d4dc",
   "metadata": {},
   "source": [
    "Most no of failures in terms of sections in DV subject"
   ]
  },
  {
   "cell_type": "code",
   "execution_count": 352,
   "id": "e878e3b3-60b4-402b-869d-9a37cac61227",
   "metadata": {},
   "outputs": [
    {
     "data": {
      "text/plain": [
       "'ALPHA'"
      ]
     },
     "execution_count": 352,
     "metadata": {},
     "output_type": "execute_result"
    }
   ],
   "source": [
    "pp_failures = a[a[\"DV\"] < 10]\n",
    "\n",
    "failures_by_section = pp_failures.groupby(\"SECTION\").size()\n",
    "\n",
    "most_failures = failures_by_section.idxmax()\n",
    "most_failures\n",
    "\n"
   ]
  },
  {
   "cell_type": "markdown",
   "id": "5cdd3b93-355b-4718-a439-d3ef768d28b3",
   "metadata": {},
   "source": [
    "Most no of failures in terms of sections in PP subject"
   ]
  },
  {
   "cell_type": "code",
   "execution_count": 354,
   "id": "eb987c3a-46c3-4674-a580-37ad7d953b67",
   "metadata": {},
   "outputs": [
    {
     "data": {
      "text/plain": [
       "2"
      ]
     },
     "execution_count": 354,
     "metadata": {},
     "output_type": "execute_result"
    }
   ],
   "source": [
    "data=pd.read_excel(\"MIDMARKS.xlsx\")\n",
    "count = data['DV'].isna().sum()\n",
    "count"
   ]
  },
  {
   "cell_type": "markdown",
   "id": "72f9ad40-fde6-4360-a5cf-58e926643b12",
   "metadata": {},
   "source": [
    "No of students who didnt attempt DV exam"
   ]
  },
  {
   "cell_type": "code",
   "execution_count": 356,
   "id": "ae973d86-5982-48e1-80bf-21ad4d52af73",
   "metadata": {},
   "outputs": [
    {
     "data": {
      "text/html": [
       "<div>\n",
       "<style scoped>\n",
       "    .dataframe tbody tr th:only-of-type {\n",
       "        vertical-align: middle;\n",
       "    }\n",
       "\n",
       "    .dataframe tbody tr th {\n",
       "        vertical-align: top;\n",
       "    }\n",
       "\n",
       "    .dataframe thead th {\n",
       "        text-align: right;\n",
       "    }\n",
       "</style>\n",
       "<table border=\"1\" class=\"dataframe\">\n",
       "  <thead>\n",
       "    <tr style=\"text-align: right;\">\n",
       "      <th></th>\n",
       "      <th>S.NO</th>\n",
       "      <th>SECTION</th>\n",
       "      <th>DV</th>\n",
       "      <th>M</th>\n",
       "      <th>PP</th>\n",
       "      <th>BEEE</th>\n",
       "      <th>FL</th>\n",
       "      <th>FIMS</th>\n",
       "      <th>backlogs</th>\n",
       "      <th>Total</th>\n",
       "    </tr>\n",
       "  </thead>\n",
       "  <tbody>\n",
       "    <tr>\n",
       "      <th>0</th>\n",
       "      <td>1</td>\n",
       "      <td>ALPHA</td>\n",
       "      <td>12</td>\n",
       "      <td>0.0</td>\n",
       "      <td>17.0</td>\n",
       "      <td>9.0</td>\n",
       "      <td>19.0</td>\n",
       "      <td>15.0</td>\n",
       "      <td>2</td>\n",
       "      <td>72.0</td>\n",
       "    </tr>\n",
       "    <tr>\n",
       "      <th>1</th>\n",
       "      <td>2</td>\n",
       "      <td>ALPHA</td>\n",
       "      <td>19</td>\n",
       "      <td>12.0</td>\n",
       "      <td>16.0</td>\n",
       "      <td>16.0</td>\n",
       "      <td>18.0</td>\n",
       "      <td>3.0</td>\n",
       "      <td>1</td>\n",
       "      <td>84.0</td>\n",
       "    </tr>\n",
       "    <tr>\n",
       "      <th>2</th>\n",
       "      <td>3</td>\n",
       "      <td>ALPHA</td>\n",
       "      <td>18</td>\n",
       "      <td>14.0</td>\n",
       "      <td>18.0</td>\n",
       "      <td>18.0</td>\n",
       "      <td>18.0</td>\n",
       "      <td>16.0</td>\n",
       "      <td>0</td>\n",
       "      <td>102.0</td>\n",
       "    </tr>\n",
       "    <tr>\n",
       "      <th>3</th>\n",
       "      <td>4</td>\n",
       "      <td>ALPHA</td>\n",
       "      <td>15</td>\n",
       "      <td>9.0</td>\n",
       "      <td>19.0</td>\n",
       "      <td>17.0</td>\n",
       "      <td>19.0</td>\n",
       "      <td>15.0</td>\n",
       "      <td>1</td>\n",
       "      <td>94.0</td>\n",
       "    </tr>\n",
       "    <tr>\n",
       "      <th>4</th>\n",
       "      <td>5</td>\n",
       "      <td>ALPHA</td>\n",
       "      <td>18</td>\n",
       "      <td>17.0</td>\n",
       "      <td>19.0</td>\n",
       "      <td>19.0</td>\n",
       "      <td>20.0</td>\n",
       "      <td>18.0</td>\n",
       "      <td>0</td>\n",
       "      <td>111.0</td>\n",
       "    </tr>\n",
       "    <tr>\n",
       "      <th>...</th>\n",
       "      <td>...</td>\n",
       "      <td>...</td>\n",
       "      <td>...</td>\n",
       "      <td>...</td>\n",
       "      <td>...</td>\n",
       "      <td>...</td>\n",
       "      <td>...</td>\n",
       "      <td>...</td>\n",
       "      <td>...</td>\n",
       "      <td>...</td>\n",
       "    </tr>\n",
       "    <tr>\n",
       "      <th>713</th>\n",
       "      <td>714</td>\n",
       "      <td>ZETA</td>\n",
       "      <td>19</td>\n",
       "      <td>8.0</td>\n",
       "      <td>8.0</td>\n",
       "      <td>19.0</td>\n",
       "      <td>17.0</td>\n",
       "      <td>18.0</td>\n",
       "      <td>2</td>\n",
       "      <td>89.0</td>\n",
       "    </tr>\n",
       "    <tr>\n",
       "      <th>714</th>\n",
       "      <td>715</td>\n",
       "      <td>ZETA</td>\n",
       "      <td>12</td>\n",
       "      <td>1.0</td>\n",
       "      <td>7.0</td>\n",
       "      <td>10.0</td>\n",
       "      <td>20.0</td>\n",
       "      <td>8.0</td>\n",
       "      <td>3</td>\n",
       "      <td>58.0</td>\n",
       "    </tr>\n",
       "    <tr>\n",
       "      <th>715</th>\n",
       "      <td>716</td>\n",
       "      <td>ZETA</td>\n",
       "      <td>17</td>\n",
       "      <td>6.0</td>\n",
       "      <td>14.0</td>\n",
       "      <td>14.0</td>\n",
       "      <td>17.0</td>\n",
       "      <td>18.0</td>\n",
       "      <td>1</td>\n",
       "      <td>86.0</td>\n",
       "    </tr>\n",
       "    <tr>\n",
       "      <th>716</th>\n",
       "      <td>717</td>\n",
       "      <td>ZETA</td>\n",
       "      <td>12</td>\n",
       "      <td>1.0</td>\n",
       "      <td>6.0</td>\n",
       "      <td>7.0</td>\n",
       "      <td>15.0</td>\n",
       "      <td>12.0</td>\n",
       "      <td>3</td>\n",
       "      <td>53.0</td>\n",
       "    </tr>\n",
       "    <tr>\n",
       "      <th>717</th>\n",
       "      <td>718</td>\n",
       "      <td>ZETA</td>\n",
       "      <td>19</td>\n",
       "      <td>14.0</td>\n",
       "      <td>17.0</td>\n",
       "      <td>16.0</td>\n",
       "      <td>20.0</td>\n",
       "      <td>19.0</td>\n",
       "      <td>0</td>\n",
       "      <td>105.0</td>\n",
       "    </tr>\n",
       "  </tbody>\n",
       "</table>\n",
       "<p>716 rows × 10 columns</p>\n",
       "</div>"
      ],
      "text/plain": [
       "     S.NO SECTION  DV     M    PP  BEEE    FL  FIMS  backlogs  Total\n",
       "0       1   ALPHA  12   0.0  17.0   9.0  19.0  15.0         2   72.0\n",
       "1       2   ALPHA  19  12.0  16.0  16.0  18.0   3.0         1   84.0\n",
       "2       3   ALPHA  18  14.0  18.0  18.0  18.0  16.0         0  102.0\n",
       "3       4   ALPHA  15   9.0  19.0  17.0  19.0  15.0         1   94.0\n",
       "4       5   ALPHA  18  17.0  19.0  19.0  20.0  18.0         0  111.0\n",
       "..    ...     ...  ..   ...   ...   ...   ...   ...       ...    ...\n",
       "713   714    ZETA  19   8.0   8.0  19.0  17.0  18.0         2   89.0\n",
       "714   715    ZETA  12   1.0   7.0  10.0  20.0   8.0         3   58.0\n",
       "715   716    ZETA  17   6.0  14.0  14.0  17.0  18.0         1   86.0\n",
       "716   717    ZETA  12   1.0   6.0   7.0  15.0  12.0         3   53.0\n",
       "717   718    ZETA  19  14.0  17.0  16.0  20.0  19.0         0  105.0\n",
       "\n",
       "[716 rows x 10 columns]"
      ]
     },
     "execution_count": 356,
     "metadata": {},
     "output_type": "execute_result"
    }
   ],
   "source": [
    "a[\"Total\"] = a[\"DV\"] + a[\"M\"] + a[\"PP\"] + a[\"BEEE\"] + a[\"FL\"] + a[\"FIMS\"]\n",
    "a\n"
   ]
  },
  {
   "cell_type": "code",
   "execution_count": 357,
   "id": "52bf7ae6-6435-4c3b-a1db-28a8976ef0a1",
   "metadata": {},
   "outputs": [
    {
     "data": {
      "text/html": [
       "<div>\n",
       "<style scoped>\n",
       "    .dataframe tbody tr th:only-of-type {\n",
       "        vertical-align: middle;\n",
       "    }\n",
       "\n",
       "    .dataframe tbody tr th {\n",
       "        vertical-align: top;\n",
       "    }\n",
       "\n",
       "    .dataframe thead th {\n",
       "        text-align: right;\n",
       "    }\n",
       "</style>\n",
       "<table border=\"1\" class=\"dataframe\">\n",
       "  <thead>\n",
       "    <tr style=\"text-align: right;\">\n",
       "      <th></th>\n",
       "      <th>S.NO</th>\n",
       "      <th>SECTION</th>\n",
       "      <th>DV</th>\n",
       "      <th>M</th>\n",
       "      <th>PP</th>\n",
       "      <th>BEEE</th>\n",
       "      <th>FL</th>\n",
       "      <th>FIMS</th>\n",
       "      <th>backlogs</th>\n",
       "      <th>Total</th>\n",
       "      <th>Grade</th>\n",
       "    </tr>\n",
       "  </thead>\n",
       "  <tbody>\n",
       "    <tr>\n",
       "      <th>0</th>\n",
       "      <td>1</td>\n",
       "      <td>ALPHA</td>\n",
       "      <td>12</td>\n",
       "      <td>0.0</td>\n",
       "      <td>17.0</td>\n",
       "      <td>9.0</td>\n",
       "      <td>19.0</td>\n",
       "      <td>15.0</td>\n",
       "      <td>2</td>\n",
       "      <td>72.0</td>\n",
       "      <td>D</td>\n",
       "    </tr>\n",
       "    <tr>\n",
       "      <th>1</th>\n",
       "      <td>2</td>\n",
       "      <td>ALPHA</td>\n",
       "      <td>19</td>\n",
       "      <td>12.0</td>\n",
       "      <td>16.0</td>\n",
       "      <td>16.0</td>\n",
       "      <td>18.0</td>\n",
       "      <td>3.0</td>\n",
       "      <td>1</td>\n",
       "      <td>84.0</td>\n",
       "      <td>C</td>\n",
       "    </tr>\n",
       "    <tr>\n",
       "      <th>2</th>\n",
       "      <td>3</td>\n",
       "      <td>ALPHA</td>\n",
       "      <td>18</td>\n",
       "      <td>14.0</td>\n",
       "      <td>18.0</td>\n",
       "      <td>18.0</td>\n",
       "      <td>18.0</td>\n",
       "      <td>16.0</td>\n",
       "      <td>0</td>\n",
       "      <td>102.0</td>\n",
       "      <td>B</td>\n",
       "    </tr>\n",
       "    <tr>\n",
       "      <th>3</th>\n",
       "      <td>4</td>\n",
       "      <td>ALPHA</td>\n",
       "      <td>15</td>\n",
       "      <td>9.0</td>\n",
       "      <td>19.0</td>\n",
       "      <td>17.0</td>\n",
       "      <td>19.0</td>\n",
       "      <td>15.0</td>\n",
       "      <td>1</td>\n",
       "      <td>94.0</td>\n",
       "      <td>B</td>\n",
       "    </tr>\n",
       "    <tr>\n",
       "      <th>4</th>\n",
       "      <td>5</td>\n",
       "      <td>ALPHA</td>\n",
       "      <td>18</td>\n",
       "      <td>17.0</td>\n",
       "      <td>19.0</td>\n",
       "      <td>19.0</td>\n",
       "      <td>20.0</td>\n",
       "      <td>18.0</td>\n",
       "      <td>0</td>\n",
       "      <td>111.0</td>\n",
       "      <td>A</td>\n",
       "    </tr>\n",
       "    <tr>\n",
       "      <th>...</th>\n",
       "      <td>...</td>\n",
       "      <td>...</td>\n",
       "      <td>...</td>\n",
       "      <td>...</td>\n",
       "      <td>...</td>\n",
       "      <td>...</td>\n",
       "      <td>...</td>\n",
       "      <td>...</td>\n",
       "      <td>...</td>\n",
       "      <td>...</td>\n",
       "      <td>...</td>\n",
       "    </tr>\n",
       "    <tr>\n",
       "      <th>713</th>\n",
       "      <td>714</td>\n",
       "      <td>ZETA</td>\n",
       "      <td>19</td>\n",
       "      <td>8.0</td>\n",
       "      <td>8.0</td>\n",
       "      <td>19.0</td>\n",
       "      <td>17.0</td>\n",
       "      <td>18.0</td>\n",
       "      <td>2</td>\n",
       "      <td>89.0</td>\n",
       "      <td>C</td>\n",
       "    </tr>\n",
       "    <tr>\n",
       "      <th>714</th>\n",
       "      <td>715</td>\n",
       "      <td>ZETA</td>\n",
       "      <td>12</td>\n",
       "      <td>1.0</td>\n",
       "      <td>7.0</td>\n",
       "      <td>10.0</td>\n",
       "      <td>20.0</td>\n",
       "      <td>8.0</td>\n",
       "      <td>3</td>\n",
       "      <td>58.0</td>\n",
       "      <td>F</td>\n",
       "    </tr>\n",
       "    <tr>\n",
       "      <th>715</th>\n",
       "      <td>716</td>\n",
       "      <td>ZETA</td>\n",
       "      <td>17</td>\n",
       "      <td>6.0</td>\n",
       "      <td>14.0</td>\n",
       "      <td>14.0</td>\n",
       "      <td>17.0</td>\n",
       "      <td>18.0</td>\n",
       "      <td>1</td>\n",
       "      <td>86.0</td>\n",
       "      <td>C</td>\n",
       "    </tr>\n",
       "    <tr>\n",
       "      <th>716</th>\n",
       "      <td>717</td>\n",
       "      <td>ZETA</td>\n",
       "      <td>12</td>\n",
       "      <td>1.0</td>\n",
       "      <td>6.0</td>\n",
       "      <td>7.0</td>\n",
       "      <td>15.0</td>\n",
       "      <td>12.0</td>\n",
       "      <td>3</td>\n",
       "      <td>53.0</td>\n",
       "      <td>F</td>\n",
       "    </tr>\n",
       "    <tr>\n",
       "      <th>717</th>\n",
       "      <td>718</td>\n",
       "      <td>ZETA</td>\n",
       "      <td>19</td>\n",
       "      <td>14.0</td>\n",
       "      <td>17.0</td>\n",
       "      <td>16.0</td>\n",
       "      <td>20.0</td>\n",
       "      <td>19.0</td>\n",
       "      <td>0</td>\n",
       "      <td>105.0</td>\n",
       "      <td>B</td>\n",
       "    </tr>\n",
       "  </tbody>\n",
       "</table>\n",
       "<p>716 rows × 11 columns</p>\n",
       "</div>"
      ],
      "text/plain": [
       "     S.NO SECTION  DV     M    PP  BEEE    FL  FIMS  backlogs  Total Grade\n",
       "0       1   ALPHA  12   0.0  17.0   9.0  19.0  15.0         2   72.0     D\n",
       "1       2   ALPHA  19  12.0  16.0  16.0  18.0   3.0         1   84.0     C\n",
       "2       3   ALPHA  18  14.0  18.0  18.0  18.0  16.0         0  102.0     B\n",
       "3       4   ALPHA  15   9.0  19.0  17.0  19.0  15.0         1   94.0     B\n",
       "4       5   ALPHA  18  17.0  19.0  19.0  20.0  18.0         0  111.0     A\n",
       "..    ...     ...  ..   ...   ...   ...   ...   ...       ...    ...   ...\n",
       "713   714    ZETA  19   8.0   8.0  19.0  17.0  18.0         2   89.0     C\n",
       "714   715    ZETA  12   1.0   7.0  10.0  20.0   8.0         3   58.0     F\n",
       "715   716    ZETA  17   6.0  14.0  14.0  17.0  18.0         1   86.0     C\n",
       "716   717    ZETA  12   1.0   6.0   7.0  15.0  12.0         3   53.0     F\n",
       "717   718    ZETA  19  14.0  17.0  16.0  20.0  19.0         0  105.0     B\n",
       "\n",
       "[716 rows x 11 columns]"
      ]
     },
     "execution_count": 357,
     "metadata": {},
     "output_type": "execute_result"
    }
   ],
   "source": [
    "def assign_grade(total):\n",
    "    if total >= 120:\n",
    "        return 'A+'\n",
    "    elif total >= 110:\n",
    "        return 'A'\n",
    "    elif total >= 90:\n",
    "        return 'B'\n",
    "    elif total >= 80:\n",
    "        return 'C'\n",
    "    elif total >= 65:\n",
    "        return 'D'\n",
    "    else:\n",
    "        return 'F'\n",
    "a['Grade'] = a['Total'].apply(assign_grade)\n",
    "a"
   ]
  },
  {
   "cell_type": "markdown",
   "id": "4dc274cf-a0e9-441d-bff0-11325c8d8ca1",
   "metadata": {},
   "source": [
    "**Creation of Total feature**"
   ]
  },
  {
   "cell_type": "code",
   "execution_count": 359,
   "id": "e1b2efe8-aaea-44c7-ae7f-045472a3f684",
   "metadata": {},
   "outputs": [
    {
     "data": {
      "text/html": [
       "<div>\n",
       "<style scoped>\n",
       "    .dataframe tbody tr th:only-of-type {\n",
       "        vertical-align: middle;\n",
       "    }\n",
       "\n",
       "    .dataframe tbody tr th {\n",
       "        vertical-align: top;\n",
       "    }\n",
       "\n",
       "    .dataframe thead th {\n",
       "        text-align: right;\n",
       "    }\n",
       "</style>\n",
       "<table border=\"1\" class=\"dataframe\">\n",
       "  <thead>\n",
       "    <tr style=\"text-align: right;\">\n",
       "      <th></th>\n",
       "      <th>S.NO</th>\n",
       "      <th>SECTION</th>\n",
       "      <th>DV</th>\n",
       "      <th>M</th>\n",
       "      <th>PP</th>\n",
       "      <th>BEEE</th>\n",
       "      <th>FL</th>\n",
       "      <th>FIMS</th>\n",
       "      <th>backlogs</th>\n",
       "      <th>Total</th>\n",
       "      <th>Grade</th>\n",
       "      <th>Programming_skills</th>\n",
       "    </tr>\n",
       "  </thead>\n",
       "  <tbody>\n",
       "    <tr>\n",
       "      <th>0</th>\n",
       "      <td>1</td>\n",
       "      <td>ALPHA</td>\n",
       "      <td>12</td>\n",
       "      <td>0.0</td>\n",
       "      <td>17.0</td>\n",
       "      <td>9.0</td>\n",
       "      <td>19.0</td>\n",
       "      <td>15.0</td>\n",
       "      <td>2</td>\n",
       "      <td>72.0</td>\n",
       "      <td>D</td>\n",
       "      <td>Good</td>\n",
       "    </tr>\n",
       "    <tr>\n",
       "      <th>1</th>\n",
       "      <td>2</td>\n",
       "      <td>ALPHA</td>\n",
       "      <td>19</td>\n",
       "      <td>12.0</td>\n",
       "      <td>16.0</td>\n",
       "      <td>16.0</td>\n",
       "      <td>18.0</td>\n",
       "      <td>3.0</td>\n",
       "      <td>1</td>\n",
       "      <td>84.0</td>\n",
       "      <td>C</td>\n",
       "      <td>Good</td>\n",
       "    </tr>\n",
       "    <tr>\n",
       "      <th>2</th>\n",
       "      <td>3</td>\n",
       "      <td>ALPHA</td>\n",
       "      <td>18</td>\n",
       "      <td>14.0</td>\n",
       "      <td>18.0</td>\n",
       "      <td>18.0</td>\n",
       "      <td>18.0</td>\n",
       "      <td>16.0</td>\n",
       "      <td>0</td>\n",
       "      <td>102.0</td>\n",
       "      <td>B</td>\n",
       "      <td>very Good</td>\n",
       "    </tr>\n",
       "    <tr>\n",
       "      <th>3</th>\n",
       "      <td>4</td>\n",
       "      <td>ALPHA</td>\n",
       "      <td>15</td>\n",
       "      <td>9.0</td>\n",
       "      <td>19.0</td>\n",
       "      <td>17.0</td>\n",
       "      <td>19.0</td>\n",
       "      <td>15.0</td>\n",
       "      <td>1</td>\n",
       "      <td>94.0</td>\n",
       "      <td>B</td>\n",
       "      <td>very Good</td>\n",
       "    </tr>\n",
       "    <tr>\n",
       "      <th>4</th>\n",
       "      <td>5</td>\n",
       "      <td>ALPHA</td>\n",
       "      <td>18</td>\n",
       "      <td>17.0</td>\n",
       "      <td>19.0</td>\n",
       "      <td>19.0</td>\n",
       "      <td>20.0</td>\n",
       "      <td>18.0</td>\n",
       "      <td>0</td>\n",
       "      <td>111.0</td>\n",
       "      <td>A</td>\n",
       "      <td>very Good</td>\n",
       "    </tr>\n",
       "    <tr>\n",
       "      <th>...</th>\n",
       "      <td>...</td>\n",
       "      <td>...</td>\n",
       "      <td>...</td>\n",
       "      <td>...</td>\n",
       "      <td>...</td>\n",
       "      <td>...</td>\n",
       "      <td>...</td>\n",
       "      <td>...</td>\n",
       "      <td>...</td>\n",
       "      <td>...</td>\n",
       "      <td>...</td>\n",
       "      <td>...</td>\n",
       "    </tr>\n",
       "    <tr>\n",
       "      <th>713</th>\n",
       "      <td>714</td>\n",
       "      <td>ZETA</td>\n",
       "      <td>19</td>\n",
       "      <td>8.0</td>\n",
       "      <td>8.0</td>\n",
       "      <td>19.0</td>\n",
       "      <td>17.0</td>\n",
       "      <td>18.0</td>\n",
       "      <td>2</td>\n",
       "      <td>89.0</td>\n",
       "      <td>C</td>\n",
       "      <td>Poor</td>\n",
       "    </tr>\n",
       "    <tr>\n",
       "      <th>714</th>\n",
       "      <td>715</td>\n",
       "      <td>ZETA</td>\n",
       "      <td>12</td>\n",
       "      <td>1.0</td>\n",
       "      <td>7.0</td>\n",
       "      <td>10.0</td>\n",
       "      <td>20.0</td>\n",
       "      <td>8.0</td>\n",
       "      <td>3</td>\n",
       "      <td>58.0</td>\n",
       "      <td>F</td>\n",
       "      <td>Poor</td>\n",
       "    </tr>\n",
       "    <tr>\n",
       "      <th>715</th>\n",
       "      <td>716</td>\n",
       "      <td>ZETA</td>\n",
       "      <td>17</td>\n",
       "      <td>6.0</td>\n",
       "      <td>14.0</td>\n",
       "      <td>14.0</td>\n",
       "      <td>17.0</td>\n",
       "      <td>18.0</td>\n",
       "      <td>1</td>\n",
       "      <td>86.0</td>\n",
       "      <td>C</td>\n",
       "      <td>Avg</td>\n",
       "    </tr>\n",
       "    <tr>\n",
       "      <th>716</th>\n",
       "      <td>717</td>\n",
       "      <td>ZETA</td>\n",
       "      <td>12</td>\n",
       "      <td>1.0</td>\n",
       "      <td>6.0</td>\n",
       "      <td>7.0</td>\n",
       "      <td>15.0</td>\n",
       "      <td>12.0</td>\n",
       "      <td>3</td>\n",
       "      <td>53.0</td>\n",
       "      <td>F</td>\n",
       "      <td>Poor</td>\n",
       "    </tr>\n",
       "    <tr>\n",
       "      <th>717</th>\n",
       "      <td>718</td>\n",
       "      <td>ZETA</td>\n",
       "      <td>19</td>\n",
       "      <td>14.0</td>\n",
       "      <td>17.0</td>\n",
       "      <td>16.0</td>\n",
       "      <td>20.0</td>\n",
       "      <td>19.0</td>\n",
       "      <td>0</td>\n",
       "      <td>105.0</td>\n",
       "      <td>B</td>\n",
       "      <td>Good</td>\n",
       "    </tr>\n",
       "  </tbody>\n",
       "</table>\n",
       "<p>716 rows × 12 columns</p>\n",
       "</div>"
      ],
      "text/plain": [
       "     S.NO SECTION  DV     M    PP  BEEE    FL  FIMS  backlogs  Total Grade  \\\n",
       "0       1   ALPHA  12   0.0  17.0   9.0  19.0  15.0         2   72.0     D   \n",
       "1       2   ALPHA  19  12.0  16.0  16.0  18.0   3.0         1   84.0     C   \n",
       "2       3   ALPHA  18  14.0  18.0  18.0  18.0  16.0         0  102.0     B   \n",
       "3       4   ALPHA  15   9.0  19.0  17.0  19.0  15.0         1   94.0     B   \n",
       "4       5   ALPHA  18  17.0  19.0  19.0  20.0  18.0         0  111.0     A   \n",
       "..    ...     ...  ..   ...   ...   ...   ...   ...       ...    ...   ...   \n",
       "713   714    ZETA  19   8.0   8.0  19.0  17.0  18.0         2   89.0     C   \n",
       "714   715    ZETA  12   1.0   7.0  10.0  20.0   8.0         3   58.0     F   \n",
       "715   716    ZETA  17   6.0  14.0  14.0  17.0  18.0         1   86.0     C   \n",
       "716   717    ZETA  12   1.0   6.0   7.0  15.0  12.0         3   53.0     F   \n",
       "717   718    ZETA  19  14.0  17.0  16.0  20.0  19.0         0  105.0     B   \n",
       "\n",
       "    Programming_skills  \n",
       "0                 Good  \n",
       "1                 Good  \n",
       "2            very Good  \n",
       "3            very Good  \n",
       "4            very Good  \n",
       "..                 ...  \n",
       "713               Poor  \n",
       "714               Poor  \n",
       "715                Avg  \n",
       "716               Poor  \n",
       "717               Good  \n",
       "\n",
       "[716 rows x 12 columns]"
      ]
     },
     "execution_count": 359,
     "metadata": {},
     "output_type": "execute_result"
    }
   ],
   "source": [
    "def assign_pp(PP):\n",
    "    if PP >= 18:\n",
    "        return 'very Good'\n",
    "    elif PP >= 15:\n",
    "        return 'Good'\n",
    "    elif PP >= 12:\n",
    "        return 'Avg'\n",
    "    elif PP<11:\n",
    "        return 'Poor'\n",
    "a['Programming_skills'] = a['PP'].apply(assign_pp)\n",
    "a"
   ]
  },
  {
   "cell_type": "markdown",
   "id": "2d42b5f2-71c3-427b-9446-903e4f367286",
   "metadata": {},
   "source": [
    "**Creation of Programming skills feature**"
   ]
  },
  {
   "cell_type": "code",
   "execution_count": 361,
   "id": "a09668fe-3ab5-4f47-9a20-1d5d3329a026",
   "metadata": {},
   "outputs": [
    {
     "data": {
      "text/plain": [
       "Programming_skills\n",
       "Poor         239\n",
       "very Good    199\n",
       "Good         127\n",
       "Avg          105\n",
       "Name: count, dtype: int64"
      ]
     },
     "execution_count": 361,
     "metadata": {},
     "output_type": "execute_result"
    }
   ],
   "source": [
    "a.Programming_skills.value_counts()"
   ]
  },
  {
   "cell_type": "code",
   "execution_count": 362,
   "id": "ae808eac-a6e4-4e9a-864c-300475ba3721",
   "metadata": {},
   "outputs": [
    {
     "data": {
      "image/png": "[encoded data removed]",
      "text/plain": [
       "<Figure size 800x500 with 1 Axes>"
      ]
     },
     "metadata": {},
     "output_type": "display_data"
    }
   ],
   "source": [
    "import matplotlib.pyplot as plt\n",
    "backlogs_by_section = a.groupby(\"Programming_skills\")[\"Total\"].sum()\n",
    "plt.figure(figsize=(8, 5))\n",
    "backlogs_by_section.plot(kind=\"bar\", color=\"skyblue\", edgecolor=\"black\")\n",
    "plt.xticks(rotation=0, fontsize=10)\n",
    "plt.grid(axis='y', linestyle='--', alpha=0.7)\n",
    "plt.show()"
   ]
  },
  {
   "cell_type": "markdown",
   "id": "e3f97aad-184d-4b12-a8dc-196274073654",
   "metadata": {},
   "source": [
    "This code creates a bar chart using Matplotlib to show the total number of backlogs for each programming skill category. \n",
    "It groups the data by \"Programming_skills\", sums the \"Total\"values, and then plots the result as a bar graph with a sky-blue color and black edges.\n",
    "The x-axis labels stay horizontal, and a dashed grid is added on the y-axis for better readability."
   ]
  },
  {
   "cell_type": "code",
   "execution_count": 364,
   "id": "b032886c-5777-4802-8006-e6c015cc8d2e",
   "metadata": {},
   "outputs": [
    {
     "data": {
      "image/png": "[encoded data removed]",
      "text/plain": [
       "<Figure size 600x600 with 1 Axes>"
      ]
     },
     "metadata": {},
     "output_type": "display_data"
    }
   ],
   "source": [
    "plt.figure(figsize=(6, 6))\n",
    "a['Programming_skills'].value_counts().plot.pie(autopct='%1.1f%%', cmap='coolwarm', legend=True)\n",
    "plt.ylabel(\"\")\n",
    "plt.show()"
   ]
  },
  {
   "cell_type": "markdown",
   "id": "4991e8e0-e2ea-4bc4-a9aa-11ee76038eb3",
   "metadata": {},
   "source": [
    "This code creates a pie chart showing the percentage distribution of different Programming Skills in dataset a."
   ]
  },
  {
   "cell_type": "code",
   "execution_count": 366,
   "id": "9a2c861c-b340-4a9b-a3dd-c6da852caac6",
   "metadata": {},
   "outputs": [
    {
     "data": {
      "text/html": [
       "<div>\n",
       "<style scoped>\n",
       "    .dataframe tbody tr th:only-of-type {\n",
       "        vertical-align: middle;\n",
       "    }\n",
       "\n",
       "    .dataframe tbody tr th {\n",
       "        vertical-align: top;\n",
       "    }\n",
       "\n",
       "    .dataframe thead th {\n",
       "        text-align: right;\n",
       "    }\n",
       "</style>\n",
       "<table border=\"1\" class=\"dataframe\">\n",
       "  <thead>\n",
       "    <tr style=\"text-align: right;\">\n",
       "      <th></th>\n",
       "      <th>S.NO</th>\n",
       "      <th>SECTION</th>\n",
       "      <th>DV</th>\n",
       "      <th>M</th>\n",
       "      <th>PP</th>\n",
       "      <th>BEEE</th>\n",
       "      <th>FL</th>\n",
       "      <th>FIMS</th>\n",
       "      <th>backlogs</th>\n",
       "      <th>Total</th>\n",
       "      <th>Grade</th>\n",
       "      <th>Programming_skills</th>\n",
       "      <th>analytical_skills</th>\n",
       "    </tr>\n",
       "  </thead>\n",
       "  <tbody>\n",
       "    <tr>\n",
       "      <th>0</th>\n",
       "      <td>1</td>\n",
       "      <td>ALPHA</td>\n",
       "      <td>12</td>\n",
       "      <td>0.0</td>\n",
       "      <td>17.0</td>\n",
       "      <td>9.0</td>\n",
       "      <td>19.0</td>\n",
       "      <td>15.0</td>\n",
       "      <td>2</td>\n",
       "      <td>72.0</td>\n",
       "      <td>D</td>\n",
       "      <td>Good</td>\n",
       "      <td>Avg</td>\n",
       "    </tr>\n",
       "    <tr>\n",
       "      <th>1</th>\n",
       "      <td>2</td>\n",
       "      <td>ALPHA</td>\n",
       "      <td>19</td>\n",
       "      <td>12.0</td>\n",
       "      <td>16.0</td>\n",
       "      <td>16.0</td>\n",
       "      <td>18.0</td>\n",
       "      <td>3.0</td>\n",
       "      <td>1</td>\n",
       "      <td>84.0</td>\n",
       "      <td>C</td>\n",
       "      <td>Good</td>\n",
       "      <td>very Good</td>\n",
       "    </tr>\n",
       "    <tr>\n",
       "      <th>2</th>\n",
       "      <td>3</td>\n",
       "      <td>ALPHA</td>\n",
       "      <td>18</td>\n",
       "      <td>14.0</td>\n",
       "      <td>18.0</td>\n",
       "      <td>18.0</td>\n",
       "      <td>18.0</td>\n",
       "      <td>16.0</td>\n",
       "      <td>0</td>\n",
       "      <td>102.0</td>\n",
       "      <td>B</td>\n",
       "      <td>very Good</td>\n",
       "      <td>very Good</td>\n",
       "    </tr>\n",
       "    <tr>\n",
       "      <th>3</th>\n",
       "      <td>4</td>\n",
       "      <td>ALPHA</td>\n",
       "      <td>15</td>\n",
       "      <td>9.0</td>\n",
       "      <td>19.0</td>\n",
       "      <td>17.0</td>\n",
       "      <td>19.0</td>\n",
       "      <td>15.0</td>\n",
       "      <td>1</td>\n",
       "      <td>94.0</td>\n",
       "      <td>B</td>\n",
       "      <td>very Good</td>\n",
       "      <td>Good</td>\n",
       "    </tr>\n",
       "    <tr>\n",
       "      <th>4</th>\n",
       "      <td>5</td>\n",
       "      <td>ALPHA</td>\n",
       "      <td>18</td>\n",
       "      <td>17.0</td>\n",
       "      <td>19.0</td>\n",
       "      <td>19.0</td>\n",
       "      <td>20.0</td>\n",
       "      <td>18.0</td>\n",
       "      <td>0</td>\n",
       "      <td>111.0</td>\n",
       "      <td>A</td>\n",
       "      <td>very Good</td>\n",
       "      <td>very Good</td>\n",
       "    </tr>\n",
       "    <tr>\n",
       "      <th>...</th>\n",
       "      <td>...</td>\n",
       "      <td>...</td>\n",
       "      <td>...</td>\n",
       "      <td>...</td>\n",
       "      <td>...</td>\n",
       "      <td>...</td>\n",
       "      <td>...</td>\n",
       "      <td>...</td>\n",
       "      <td>...</td>\n",
       "      <td>...</td>\n",
       "      <td>...</td>\n",
       "      <td>...</td>\n",
       "      <td>...</td>\n",
       "    </tr>\n",
       "    <tr>\n",
       "      <th>713</th>\n",
       "      <td>714</td>\n",
       "      <td>ZETA</td>\n",
       "      <td>19</td>\n",
       "      <td>8.0</td>\n",
       "      <td>8.0</td>\n",
       "      <td>19.0</td>\n",
       "      <td>17.0</td>\n",
       "      <td>18.0</td>\n",
       "      <td>2</td>\n",
       "      <td>89.0</td>\n",
       "      <td>C</td>\n",
       "      <td>Poor</td>\n",
       "      <td>very Good</td>\n",
       "    </tr>\n",
       "    <tr>\n",
       "      <th>714</th>\n",
       "      <td>715</td>\n",
       "      <td>ZETA</td>\n",
       "      <td>12</td>\n",
       "      <td>1.0</td>\n",
       "      <td>7.0</td>\n",
       "      <td>10.0</td>\n",
       "      <td>20.0</td>\n",
       "      <td>8.0</td>\n",
       "      <td>3</td>\n",
       "      <td>58.0</td>\n",
       "      <td>F</td>\n",
       "      <td>Poor</td>\n",
       "      <td>Avg</td>\n",
       "    </tr>\n",
       "    <tr>\n",
       "      <th>715</th>\n",
       "      <td>716</td>\n",
       "      <td>ZETA</td>\n",
       "      <td>17</td>\n",
       "      <td>6.0</td>\n",
       "      <td>14.0</td>\n",
       "      <td>14.0</td>\n",
       "      <td>17.0</td>\n",
       "      <td>18.0</td>\n",
       "      <td>1</td>\n",
       "      <td>86.0</td>\n",
       "      <td>C</td>\n",
       "      <td>Avg</td>\n",
       "      <td>Good</td>\n",
       "    </tr>\n",
       "    <tr>\n",
       "      <th>716</th>\n",
       "      <td>717</td>\n",
       "      <td>ZETA</td>\n",
       "      <td>12</td>\n",
       "      <td>1.0</td>\n",
       "      <td>6.0</td>\n",
       "      <td>7.0</td>\n",
       "      <td>15.0</td>\n",
       "      <td>12.0</td>\n",
       "      <td>3</td>\n",
       "      <td>53.0</td>\n",
       "      <td>F</td>\n",
       "      <td>Poor</td>\n",
       "      <td>Avg</td>\n",
       "    </tr>\n",
       "    <tr>\n",
       "      <th>717</th>\n",
       "      <td>718</td>\n",
       "      <td>ZETA</td>\n",
       "      <td>19</td>\n",
       "      <td>14.0</td>\n",
       "      <td>17.0</td>\n",
       "      <td>16.0</td>\n",
       "      <td>20.0</td>\n",
       "      <td>19.0</td>\n",
       "      <td>0</td>\n",
       "      <td>105.0</td>\n",
       "      <td>B</td>\n",
       "      <td>Good</td>\n",
       "      <td>very Good</td>\n",
       "    </tr>\n",
       "  </tbody>\n",
       "</table>\n",
       "<p>716 rows × 13 columns</p>\n",
       "</div>"
      ],
      "text/plain": [
       "     S.NO SECTION  DV     M    PP  BEEE    FL  FIMS  backlogs  Total Grade  \\\n",
       "0       1   ALPHA  12   0.0  17.0   9.0  19.0  15.0         2   72.0     D   \n",
       "1       2   ALPHA  19  12.0  16.0  16.0  18.0   3.0         1   84.0     C   \n",
       "2       3   ALPHA  18  14.0  18.0  18.0  18.0  16.0         0  102.0     B   \n",
       "3       4   ALPHA  15   9.0  19.0  17.0  19.0  15.0         1   94.0     B   \n",
       "4       5   ALPHA  18  17.0  19.0  19.0  20.0  18.0         0  111.0     A   \n",
       "..    ...     ...  ..   ...   ...   ...   ...   ...       ...    ...   ...   \n",
       "713   714    ZETA  19   8.0   8.0  19.0  17.0  18.0         2   89.0     C   \n",
       "714   715    ZETA  12   1.0   7.0  10.0  20.0   8.0         3   58.0     F   \n",
       "715   716    ZETA  17   6.0  14.0  14.0  17.0  18.0         1   86.0     C   \n",
       "716   717    ZETA  12   1.0   6.0   7.0  15.0  12.0         3   53.0     F   \n",
       "717   718    ZETA  19  14.0  17.0  16.0  20.0  19.0         0  105.0     B   \n",
       "\n",
       "    Programming_skills analytical_skills  \n",
       "0                 Good               Avg  \n",
       "1                 Good         very Good  \n",
       "2            very Good         very Good  \n",
       "3            very Good              Good  \n",
       "4            very Good         very Good  \n",
       "..                 ...               ...  \n",
       "713               Poor         very Good  \n",
       "714               Poor               Avg  \n",
       "715                Avg              Good  \n",
       "716               Poor               Avg  \n",
       "717               Good         very Good  \n",
       "\n",
       "[716 rows x 13 columns]"
      ]
     },
     "execution_count": 366,
     "metadata": {},
     "output_type": "execute_result"
    }
   ],
   "source": [
    "def assign_pp(DV):\n",
    "    if DV >= 18:\n",
    "        return 'very Good'\n",
    "    elif DV >= 15:\n",
    "        return 'Good'\n",
    "    elif DV >= 12:\n",
    "        return 'Avg'\n",
    "    elif DV<11:\n",
    "        return 'Poor'\n",
    "a['analytical_skills'] = a['DV'].apply(assign_pp)\n",
    "a"
   ]
  },
  {
   "cell_type": "markdown",
   "id": "e2a26c35-2d5f-4c1a-8af8-37ab63d4fb3a",
   "metadata": {},
   "source": [
    "**Creation of new feature called analytical skills**"
   ]
  },
  {
   "cell_type": "code",
   "execution_count": 368,
   "id": "2d3abd66-cf5a-4517-9779-4e9182315e3b",
   "metadata": {},
   "outputs": [
    {
     "data": {
      "image/png": "[encoded data removed]",
      "text/plain": [
       "<Figure size 600x600 with 1 Axes>"
      ]
     },
     "metadata": {},
     "output_type": "display_data"
    }
   ],
   "source": [
    "plt.figure(figsize=(6, 6))\n",
    "a['analytical_skills'].value_counts().plot.pie(autopct='%1.1f%%', cmap='coolwarm', legend=True)\n",
    "plt.ylabel(\"\")\n",
    "plt.show()"
   ]
  },
  {
   "cell_type": "markdown",
   "id": "35a4a6cf-7ba8-4203-b928-702ac1f9a0f3",
   "metadata": {},
   "source": [
    "This code creates a pie chart showing the percentage distribution of different Analytical Skills in dataset a."
   ]
  },
  {
   "cell_type": "code",
   "execution_count": 370,
   "id": "4c3f0808-252e-4ced-a941-6c24387f8a65",
   "metadata": {},
   "outputs": [
    {
     "data": {
      "text/plain": [
       "analytical_skills\n",
       "very Good    232\n",
       "Good         216\n",
       "Poor         113\n",
       "Avg          112\n",
       "Name: count, dtype: int64"
      ]
     },
     "execution_count": 370,
     "metadata": {},
     "output_type": "execute_result"
    }
   ],
   "source": [
    "a.analytical_skills.value_counts()"
   ]
  },
  {
   "cell_type": "code",
   "execution_count": 371,
   "id": "b7a00372-4c6f-454a-a9e3-2478bac264c9",
   "metadata": {},
   "outputs": [
    {
     "data": {
      "text/html": [
       "<div>\n",
       "<style scoped>\n",
       "    .dataframe tbody tr th:only-of-type {\n",
       "        vertical-align: middle;\n",
       "    }\n",
       "\n",
       "    .dataframe tbody tr th {\n",
       "        vertical-align: top;\n",
       "    }\n",
       "\n",
       "    .dataframe thead th {\n",
       "        text-align: right;\n",
       "    }\n",
       "</style>\n",
       "<table border=\"1\" class=\"dataframe\">\n",
       "  <thead>\n",
       "    <tr style=\"text-align: right;\">\n",
       "      <th></th>\n",
       "      <th>S.NO</th>\n",
       "      <th>SECTION</th>\n",
       "      <th>DV</th>\n",
       "      <th>M</th>\n",
       "      <th>PP</th>\n",
       "      <th>BEEE</th>\n",
       "      <th>FL</th>\n",
       "      <th>FIMS</th>\n",
       "      <th>backlogs</th>\n",
       "      <th>Total</th>\n",
       "      <th>Grade</th>\n",
       "      <th>Programming_skills</th>\n",
       "      <th>analytical_skills</th>\n",
       "      <th>Status</th>\n",
       "    </tr>\n",
       "  </thead>\n",
       "  <tbody>\n",
       "    <tr>\n",
       "      <th>4</th>\n",
       "      <td>5</td>\n",
       "      <td>ALPHA</td>\n",
       "      <td>18</td>\n",
       "      <td>17.0</td>\n",
       "      <td>19.0</td>\n",
       "      <td>19.0</td>\n",
       "      <td>20.0</td>\n",
       "      <td>18.0</td>\n",
       "      <td>0</td>\n",
       "      <td>111.0</td>\n",
       "      <td>A</td>\n",
       "      <td>very Good</td>\n",
       "      <td>very Good</td>\n",
       "      <td>True</td>\n",
       "    </tr>\n",
       "    <tr>\n",
       "      <th>6</th>\n",
       "      <td>7</td>\n",
       "      <td>ALPHA</td>\n",
       "      <td>15</td>\n",
       "      <td>10.0</td>\n",
       "      <td>20.0</td>\n",
       "      <td>20.0</td>\n",
       "      <td>15.0</td>\n",
       "      <td>14.0</td>\n",
       "      <td>0</td>\n",
       "      <td>94.0</td>\n",
       "      <td>B</td>\n",
       "      <td>very Good</td>\n",
       "      <td>Good</td>\n",
       "      <td>True</td>\n",
       "    </tr>\n",
       "    <tr>\n",
       "      <th>7</th>\n",
       "      <td>8</td>\n",
       "      <td>ALPHA</td>\n",
       "      <td>17</td>\n",
       "      <td>17.0</td>\n",
       "      <td>19.0</td>\n",
       "      <td>20.0</td>\n",
       "      <td>19.0</td>\n",
       "      <td>13.0</td>\n",
       "      <td>0</td>\n",
       "      <td>105.0</td>\n",
       "      <td>B</td>\n",
       "      <td>very Good</td>\n",
       "      <td>Good</td>\n",
       "      <td>True</td>\n",
       "    </tr>\n",
       "    <tr>\n",
       "      <th>8</th>\n",
       "      <td>9</td>\n",
       "      <td>ALPHA</td>\n",
       "      <td>10</td>\n",
       "      <td>18.0</td>\n",
       "      <td>0.0</td>\n",
       "      <td>20.0</td>\n",
       "      <td>19.0</td>\n",
       "      <td>15.0</td>\n",
       "      <td>1</td>\n",
       "      <td>82.0</td>\n",
       "      <td>C</td>\n",
       "      <td>Poor</td>\n",
       "      <td>Poor</td>\n",
       "      <td>True</td>\n",
       "    </tr>\n",
       "    <tr>\n",
       "      <th>9</th>\n",
       "      <td>10</td>\n",
       "      <td>ALPHA</td>\n",
       "      <td>18</td>\n",
       "      <td>19.0</td>\n",
       "      <td>20.0</td>\n",
       "      <td>20.0</td>\n",
       "      <td>20.0</td>\n",
       "      <td>15.0</td>\n",
       "      <td>0</td>\n",
       "      <td>112.0</td>\n",
       "      <td>A</td>\n",
       "      <td>very Good</td>\n",
       "      <td>very Good</td>\n",
       "      <td>True</td>\n",
       "    </tr>\n",
       "    <tr>\n",
       "      <th>...</th>\n",
       "      <td>...</td>\n",
       "      <td>...</td>\n",
       "      <td>...</td>\n",
       "      <td>...</td>\n",
       "      <td>...</td>\n",
       "      <td>...</td>\n",
       "      <td>...</td>\n",
       "      <td>...</td>\n",
       "      <td>...</td>\n",
       "      <td>...</td>\n",
       "      <td>...</td>\n",
       "      <td>...</td>\n",
       "      <td>...</td>\n",
       "      <td>...</td>\n",
       "    </tr>\n",
       "    <tr>\n",
       "      <th>705</th>\n",
       "      <td>706</td>\n",
       "      <td>ZETA</td>\n",
       "      <td>16</td>\n",
       "      <td>0.0</td>\n",
       "      <td>11.0</td>\n",
       "      <td>16.0</td>\n",
       "      <td>20.0</td>\n",
       "      <td>0.0</td>\n",
       "      <td>2</td>\n",
       "      <td>63.0</td>\n",
       "      <td>F</td>\n",
       "      <td>None</td>\n",
       "      <td>Good</td>\n",
       "      <td>True</td>\n",
       "    </tr>\n",
       "    <tr>\n",
       "      <th>709</th>\n",
       "      <td>710</td>\n",
       "      <td>ZETA</td>\n",
       "      <td>19</td>\n",
       "      <td>17.0</td>\n",
       "      <td>12.0</td>\n",
       "      <td>17.0</td>\n",
       "      <td>20.0</td>\n",
       "      <td>16.0</td>\n",
       "      <td>0</td>\n",
       "      <td>101.0</td>\n",
       "      <td>B</td>\n",
       "      <td>Avg</td>\n",
       "      <td>very Good</td>\n",
       "      <td>True</td>\n",
       "    </tr>\n",
       "    <tr>\n",
       "      <th>711</th>\n",
       "      <td>712</td>\n",
       "      <td>ZETA</td>\n",
       "      <td>18</td>\n",
       "      <td>9.0</td>\n",
       "      <td>12.0</td>\n",
       "      <td>20.0</td>\n",
       "      <td>16.0</td>\n",
       "      <td>16.0</td>\n",
       "      <td>1</td>\n",
       "      <td>91.0</td>\n",
       "      <td>B</td>\n",
       "      <td>Avg</td>\n",
       "      <td>very Good</td>\n",
       "      <td>True</td>\n",
       "    </tr>\n",
       "    <tr>\n",
       "      <th>714</th>\n",
       "      <td>715</td>\n",
       "      <td>ZETA</td>\n",
       "      <td>12</td>\n",
       "      <td>1.0</td>\n",
       "      <td>7.0</td>\n",
       "      <td>10.0</td>\n",
       "      <td>20.0</td>\n",
       "      <td>8.0</td>\n",
       "      <td>3</td>\n",
       "      <td>58.0</td>\n",
       "      <td>F</td>\n",
       "      <td>Poor</td>\n",
       "      <td>Avg</td>\n",
       "      <td>True</td>\n",
       "    </tr>\n",
       "    <tr>\n",
       "      <th>717</th>\n",
       "      <td>718</td>\n",
       "      <td>ZETA</td>\n",
       "      <td>19</td>\n",
       "      <td>14.0</td>\n",
       "      <td>17.0</td>\n",
       "      <td>16.0</td>\n",
       "      <td>20.0</td>\n",
       "      <td>19.0</td>\n",
       "      <td>0</td>\n",
       "      <td>105.0</td>\n",
       "      <td>B</td>\n",
       "      <td>Good</td>\n",
       "      <td>very Good</td>\n",
       "      <td>True</td>\n",
       "    </tr>\n",
       "  </tbody>\n",
       "</table>\n",
       "<p>300 rows × 14 columns</p>\n",
       "</div>"
      ],
      "text/plain": [
       "     S.NO SECTION  DV     M    PP  BEEE    FL  FIMS  backlogs  Total Grade  \\\n",
       "4       5   ALPHA  18  17.0  19.0  19.0  20.0  18.0         0  111.0     A   \n",
       "6       7   ALPHA  15  10.0  20.0  20.0  15.0  14.0         0   94.0     B   \n",
       "7       8   ALPHA  17  17.0  19.0  20.0  19.0  13.0         0  105.0     B   \n",
       "8       9   ALPHA  10  18.0   0.0  20.0  19.0  15.0         1   82.0     C   \n",
       "9      10   ALPHA  18  19.0  20.0  20.0  20.0  15.0         0  112.0     A   \n",
       "..    ...     ...  ..   ...   ...   ...   ...   ...       ...    ...   ...   \n",
       "705   706    ZETA  16   0.0  11.0  16.0  20.0   0.0         2   63.0     F   \n",
       "709   710    ZETA  19  17.0  12.0  17.0  20.0  16.0         0  101.0     B   \n",
       "711   712    ZETA  18   9.0  12.0  20.0  16.0  16.0         1   91.0     B   \n",
       "714   715    ZETA  12   1.0   7.0  10.0  20.0   8.0         3   58.0     F   \n",
       "717   718    ZETA  19  14.0  17.0  16.0  20.0  19.0         0  105.0     B   \n",
       "\n",
       "    Programming_skills analytical_skills  Status  \n",
       "4            very Good         very Good    True  \n",
       "6            very Good              Good    True  \n",
       "7            very Good              Good    True  \n",
       "8                 Poor              Poor    True  \n",
       "9            very Good         very Good    True  \n",
       "..                 ...               ...     ...  \n",
       "705               None              Good    True  \n",
       "709                Avg         very Good    True  \n",
       "711                Avg         very Good    True  \n",
       "714               Poor               Avg    True  \n",
       "717               Good         very Good    True  \n",
       "\n",
       "[300 rows x 14 columns]"
      ]
     },
     "execution_count": 371,
     "metadata": {},
     "output_type": "execute_result"
    }
   ],
   "source": [
    "filtered_data = a[(a.iloc[:, 1:] == 20).any(axis=1)]\n",
    "filtered_data[\"Status\"]=True\n",
    "filtered_data\n"
   ]
  },
  {
   "cell_type": "markdown",
   "id": "c8f478d9-10d6-47ec-82e8-14edfe67496f",
   "metadata": {},
   "source": [
    "This code filters rows from a where any column (except the first one) has a value of 20, adds a new column \"Status\" with True, and displays the filtered data."
   ]
  },
  {
   "cell_type": "code",
   "execution_count": 373,
   "id": "21eb5148-42d8-40be-a7f1-264a69a29594",
   "metadata": {},
   "outputs": [
    {
     "data": {
      "text/plain": [
       "DV\n",
       "20    103\n",
       "19     40\n",
       "18     39\n",
       "17     37\n",
       "16     29\n",
       "15     12\n",
       "14     10\n",
       "12      9\n",
       "13      9\n",
       "11      5\n",
       "10      3\n",
       "0       2\n",
       "5       1\n",
       "8       1\n",
       "Name: count, dtype: int64"
      ]
     },
     "execution_count": 373,
     "metadata": {},
     "output_type": "execute_result"
    }
   ],
   "source": [
    "filtered_data.DV.value_counts()"
   ]
  },
  {
   "cell_type": "code",
   "execution_count": 374,
   "id": "27a9a2fd-3995-4424-a499-6330714ab2e0",
   "metadata": {},
   "outputs": [
    {
     "data": {
      "text/plain": [
       "PP\n",
       "20.0    106\n",
       "19.0     31\n",
       "17.0     22\n",
       "18.0     22\n",
       "16.0     20\n",
       "15.0     17\n",
       "14.0     17\n",
       "12.0     13\n",
       "11.0     11\n",
       "13.0      8\n",
       "9.0       7\n",
       "8.0       6\n",
       "7.0       6\n",
       "10.0      5\n",
       "0.0       4\n",
       "5.0       3\n",
       "6.0       1\n",
       "1.0       1\n",
       "Name: count, dtype: int64"
      ]
     },
     "execution_count": 374,
     "metadata": {},
     "output_type": "execute_result"
    }
   ],
   "source": [
    "filtered_data.PP.value_counts()"
   ]
  },
  {
   "cell_type": "code",
   "execution_count": 375,
   "id": "763835a0-58a4-4c0f-be0d-a1cd9a1ce30e",
   "metadata": {},
   "outputs": [
    {
     "data": {
      "text/plain": [
       "BEEE\n",
       "20.0    103\n",
       "19.0     37\n",
       "18.0     33\n",
       "17.0     32\n",
       "16.0     25\n",
       "14.0     11\n",
       "13.0     11\n",
       "15.0     10\n",
       "10.0      7\n",
       "12.0      6\n",
       "9.0       5\n",
       "11.0      5\n",
       "8.0       4\n",
       "6.0       3\n",
       "7.0       2\n",
       "4.0       2\n",
       "0.0       2\n",
       "3.0       1\n",
       "5.0       1\n",
       "Name: count, dtype: int64"
      ]
     },
     "execution_count": 375,
     "metadata": {},
     "output_type": "execute_result"
    }
   ],
   "source": [
    "filtered_data.BEEE.value_counts()"
   ]
  },
  {
   "cell_type": "code",
   "execution_count": 376,
   "id": "796e30bf-16c1-4994-b7aa-5506af95789a",
   "metadata": {},
   "outputs": [
    {
     "data": {
      "text/plain": [
       "FL\n",
       "20.0    189\n",
       "18.0     33\n",
       "15.0     23\n",
       "19.0     22\n",
       "13.0     14\n",
       "10.0      7\n",
       "17.0      4\n",
       "16.0      4\n",
       "14.0      2\n",
       "12.0      1\n",
       "11.0      1\n",
       "Name: count, dtype: int64"
      ]
     },
     "execution_count": 376,
     "metadata": {},
     "output_type": "execute_result"
    }
   ],
   "source": [
    "filtered_data.FL.value_counts()"
   ]
  },
  {
   "cell_type": "code",
   "execution_count": 377,
   "id": "15700241-82eb-4510-87c4-b63e3124c747",
   "metadata": {},
   "outputs": [
    {
     "data": {
      "text/plain": [
       "FIMS\n",
       "18.0    71\n",
       "16.0    41\n",
       "19.0    41\n",
       "17.0    37\n",
       "20.0    32\n",
       "15.0    27\n",
       "14.0    20\n",
       "13.0    12\n",
       "9.0      5\n",
       "12.0     4\n",
       "11.0     4\n",
       "0.0      3\n",
       "8.0      2\n",
       "10.0     1\n",
       "Name: count, dtype: int64"
      ]
     },
     "execution_count": 377,
     "metadata": {},
     "output_type": "execute_result"
    }
   ],
   "source": [
    "filtered_data.FIMS.value_counts()"
   ]
  },
  {
   "cell_type": "markdown",
   "id": "d6c10cd7-4157-49c6-94b9-b2037b9da847",
   "metadata": {},
   "source": [
    "**Data visualizations**"
   ]
  },
  {
   "cell_type": "code",
   "execution_count": 379,
   "id": "a04a3cfa-fbf1-4036-abbb-195ba6a768a1",
   "metadata": {},
   "outputs": [
    {
     "data": {
      "image/png": "[encoded data removed]",
      "text/plain": [
       "<Figure size 800x500 with 1 Axes>"
      ]
     },
     "metadata": {},
     "output_type": "display_data"
    }
   ],
   "source": [
    "backlogs_by_section = a.groupby(\"SECTION\")[\"backlogs\"].sum()\n",
    "plt.figure(figsize=(8, 5))\n",
    "backlogs_by_section.plot(kind=\"bar\", color=\"red\", edgecolor=\"black\")\n",
    "plt.title(\"Total Backlogs by Section\", fontsize=14)\n",
    "plt.xlabel(\"Section\", fontsize=12)\n",
    "plt.ylabel(\"Total Backlogs\", fontsize=12)\n",
    "plt.xticks(rotation=0, fontsize=10)\n",
    "plt.grid(axis='y', linestyle='--', alpha=0.7)\n",
    "plt.tight_layout()\n",
    "plt.show()"
   ]
  },
  {
   "cell_type": "markdown",
   "id": "db3a06c0-1de4-47b3-9286-4c9a4433bc60",
   "metadata": {},
   "source": [
    "This code creates a bar chart showing the total backlogs for each SECTION in dataset a, with labels, a title, and a grid for better readability."
   ]
  },
  {
   "cell_type": "code",
   "execution_count": 381,
   "id": "0f2900c2-d01f-4d31-ace5-a1978a07b074",
   "metadata": {},
   "outputs": [
    {
     "data": {
      "text/plain": [
       "Grade\n",
       "B     204\n",
       "F     184\n",
       "D     124\n",
       "C     115\n",
       "A      85\n",
       "A+      4\n",
       "Name: count, dtype: int64"
      ]
     },
     "execution_count": 381,
     "metadata": {},
     "output_type": "execute_result"
    }
   ],
   "source": [
    "a.Grade.value_counts()"
   ]
  },
  {
   "cell_type": "code",
   "execution_count": 382,
   "id": "0dda9379-f41a-4f32-8a22-a9f33af617a6",
   "metadata": {},
   "outputs": [
    {
     "data": {
      "text/plain": [
       "12"
      ]
     },
     "execution_count": 382,
     "metadata": {},
     "output_type": "execute_result"
    }
   ],
   "source": [
    "((a.DV<8)&(a.M<8)&(a.PP<8)&(a.BEEE<8)&(a.FL<8)&(a.FIMS<8)).sum()"
   ]
  },
  {
   "cell_type": "code",
   "execution_count": 383,
   "id": "c44a0dd9-055f-4413-b35c-1433dd0d8d28",
   "metadata": {},
   "outputs": [
    {
     "name": "stdout",
     "output_type": "stream",
     "text": [
      "The subject that is highest attempted  is DV with 705 attempted students.\n"
     ]
    }
   ],
   "source": [
    "a.replace([\"A\", \"AB\", \"MP\"], 0, inplace=True)\n",
    "unattempted_counts = (a[['DV', 'M', 'PP', 'BEEE', 'FL', 'FIMS']] != 0).sum()\n",
    "subject_with_highest_attempted = unattempted_counts.idxmax()\n",
    "highest_attempted_count = unattempted_counts.max()\n",
    "print(f\"The subject that is highest attempted  is {subject_with_highest_attempted} with {highest_attempted_count} attempted students.\")\n"
   ]
  },
  {
   "cell_type": "code",
   "execution_count": 384,
   "id": "51b47ba2-65a8-4bac-ae9b-4ea465aace2b",
   "metadata": {},
   "outputs": [
    {
     "name": "stdout",
     "output_type": "stream",
     "text": [
      "The subject that is least unattempted  is DV with 11 unattempted students.\n"
     ]
    }
   ],
   "source": [
    "a.replace([\"A\", \"AB\", \"MP\"], 0, inplace=True)\n",
    "unattempted_counts = (a[['DV', 'M', 'PP', 'BEEE', 'FL', 'FIMS']] == 0).sum()\n",
    "subject_with_least_unattempted = unattempted_counts.idxmin()\n",
    "least_unattempted_count = unattempted_counts.min()\n",
    "print(f\"The subject that is least unattempted  is {subject_with_least_unattempted} with {least_unattempted_count} unattempted students.\")\n"
   ]
  },
  {
   "cell_type": "code",
   "execution_count": 385,
   "id": "6632305a-1ed5-41b6-b4b8-93cf6b09fa3d",
   "metadata": {},
   "outputs": [
    {
     "data": {
      "image/png": "[encoded data removed]",
      "text/plain": [
       "<Figure size 800x500 with 1 Axes>"
      ]
     },
     "metadata": {},
     "output_type": "display_data"
    }
   ],
   "source": [
    "import seaborn as sns\n",
    "import matplotlib.pyplot as plt\n",
    "average_marks = a[['DV', 'M', 'PP', 'BEEE', 'FL', 'FIMS']].mean()\n",
    "plt.figure(figsize=(8, 5))\n",
    "sns.barplot(x=average_marks.index, y=average_marks.values, color='lightcoral', edgecolor='black')\n",
    "plt.title(\"Average Marks Across Subjects for Students\")\n",
    "plt.xlabel(\"Subjects\")\n",
    "plt.ylabel(\"Average Marks\")\n",
    "plt.show()"
   ]
  },
  {
   "cell_type": "markdown",
   "id": "314bf68a-a907-4019-a2e9-dbe4b5daacbf",
   "metadata": {},
   "source": [
    "This code creates a bar chart using Seaborn to show the average marks across different subjects in dataset a."
   ]
  },
  {
   "cell_type": "code",
   "execution_count": 387,
   "id": "7c437d0e-dad4-4d96-af7b-12df05676da4",
   "metadata": {},
   "outputs": [
    {
     "data": {
      "image/png": "[encoded data removed]",
      "text/plain": [
       "<Figure size 800x500 with 1 Axes>"
      ]
     },
     "metadata": {},
     "output_type": "display_data"
    }
   ],
   "source": [
    "less_marks_count = (a[['DV', 'M', 'PP', 'BEEE', 'FL', 'FIMS']] < 10).sum()\n",
    "\n",
    "plt.figure(figsize=(8, 5))\n",
    "sns.histplot(x=less_marks_count.index, y=less_marks_count.values, color='lightgreen', edgecolor='black')\n",
    "\n",
    "plt.title(\"Count of Students Scoring Less Than 10 Marks by Question\")\n",
    "plt.xlabel(\"Questions\")\n",
    "plt.ylabel(\"Count\")\n",
    "plt.show()\n"
   ]
  },
  {
   "cell_type": "markdown",
   "id": "02ff8439-5417-41eb-9396-362a34fe03c5",
   "metadata": {},
   "source": [
    "This code counts how many students scored less than 10 marks in each subject and plots a histogram using Seaborn to visualize the distribution."
   ]
  },
  {
   "cell_type": "code",
   "execution_count": 389,
   "id": "f71dea46-824a-47fd-bc94-50c418cd3b42",
   "metadata": {},
   "outputs": [
    {
     "data": {
      "image/png": "[encoded data removed]",
      "text/plain": [
       "<Figure size 800x500 with 1 Axes>"
      ]
     },
     "metadata": {},
     "output_type": "display_data"
    }
   ],
   "source": [
    "less_marks_count = (a[['DV', 'M', 'PP', 'BEEE', 'FL', 'FIMS']] < 5).sum()\n",
    "\n",
    "plt.figure(figsize=(8, 5))\n",
    "sns.lineplot(x=less_marks_count.index, y=less_marks_count.values, color='lightgreen')\n",
    "\n",
    "plt.title(\"Count of Students Scoring Less Than 5 Marks by Question\")\n",
    "plt.xlabel(\"Questions\")\n",
    "plt.ylabel(\"Count\")\n",
    "plt.show()\n"
   ]
  },
  {
   "cell_type": "markdown",
   "id": "729ccbf5-33d9-460b-bfe3-39dde810a70f",
   "metadata": {},
   "source": [
    "This code counts how many students scored less than 5 marks in each subject and plots a line chart using Seaborn to show the trend."
   ]
  },
  {
   "cell_type": "code",
   "execution_count": 391,
   "id": "d7ca5609-ae12-40da-9420-dacff2da3363",
   "metadata": {},
   "outputs": [
    {
     "data": {
      "image/png": "[encoded data removed]",
      "text/plain": [
       "<Figure size 1000x600 with 1 Axes>"
      ]
     },
     "metadata": {},
     "output_type": "display_data"
    }
   ],
   "source": [
    "import matplotlib.pyplot as plt\n",
    "max_marks_per_subject = (a[['DV', 'M', 'PP', 'BEEE', 'FL', 'FIMS']]).max()\n",
    "plt.figure(figsize=(10, 6))\n",
    "sns.barplot(x=max_marks_per_subject.index,y=max_marks_per_subject.values, color='skyblue',edgecolor='black')\n",
    "plt.title('Maximum Marks Scored in Each Subject')\n",
    "plt.xlabel('Subjects')\n",
    "plt.ylabel('Max Marks')\n",
    "plt.show()"
   ]
  },
  {
   "cell_type": "markdown",
   "id": "b2b85215-8ad5-44d2-9fb4-5c4a4cc2e985",
   "metadata": {},
   "source": [
    "This code finds the maximum marks scored in each subject and plots a bar chart using Seaborn to visualize the highest scores per subject."
   ]
  },
  {
   "cell_type": "code",
   "execution_count": 393,
   "id": "304a6cb9-854a-4fff-baa4-fe47858a2f9d",
   "metadata": {},
   "outputs": [
    {
     "data": {
      "image/png": "[encoded data removed]",
      "text/plain": [
       "<Figure size 1000x600 with 1 Axes>"
      ]
     },
     "metadata": {},
     "output_type": "display_data"
    }
   ],
   "source": [
    "average_beee_by_section = a.groupby('SECTION')['BEEE'].mean()\n",
    "sns.set_theme(style=\"whitegrid\")\n",
    "plt.figure(figsize=(10, 6))\n",
    "sns.barplot(x=average_beee_by_section.index, y=average_beee_by_section.values, edgecolor='black')\n",
    "plt.title(\"Average BEEE Marks by Section\", fontsize=16, fontweight='bold')\n",
    "plt.xlabel(\"Sections\", fontsize=12)\n",
    "plt.ylabel(\"Average BEEE Marks\", fontsize=12)\n",
    "plt.show()"
   ]
  },
  {
   "cell_type": "markdown",
   "id": "4b084d63-55e8-45cc-b210-e47207516741",
   "metadata": {},
   "source": [
    "This code calculates the average BEEE marks for each SECTION and plots a bar chart using Seaborn to visualize the comparison."
   ]
  },
  {
   "cell_type": "code",
   "execution_count": 395,
   "id": "ec63e6e1-63f3-48e7-ad13-de388f4a4fc3",
   "metadata": {},
   "outputs": [
    {
     "data": {
      "image/png": "[encoded data removed]",
      "text/plain": [
       "<Figure size 1000x600 with 1 Axes>"
      ]
     },
     "metadata": {},
     "output_type": "display_data"
    }
   ],
   "source": [
    "zeta_data = a[a['SECTION'] == 'ZETA']\n",
    "zeta_data = zeta_data[['DV', 'M', 'PP', 'BEEE', 'FL', 'FIMS']].mean()\n",
    "plt.figure(figsize=(10, 6))\n",
    "sns.lineplot(x=zeta_data.index, y=zeta_data.values)\n",
    "plt.title(\"Performance of ZETA Section by Subject\", fontsize=16, fontweight='bold')\n",
    "plt.xlabel(\"Subjects\", fontsize=12)\n",
    "plt.ylabel(\"Marks\", fontsize=12)\n",
    "plt.xticks(fontsize=10)\n",
    "plt.yticks(fontsize=10)\n",
    "plt.show()\n"
   ]
  },
  {
   "cell_type": "markdown",
   "id": "583ba7e3-2b8f-4c11-8e4e-8bc7780933a2",
   "metadata": {},
   "source": [
    "This code calculates the average marks for the ZETA section in each subject and plots a line chart using Seaborn to show their performance."
   ]
  },
  {
   "cell_type": "code",
   "execution_count": 397,
   "id": "6a843067-6f7c-482c-9786-5ee574969091",
   "metadata": {},
   "outputs": [
    {
     "data": {
      "image/png": "[encoded data removed]",
      "text/plain": [
       "<Figure size 1000x600 with 1 Axes>"
      ]
     },
     "metadata": {},
     "output_type": "display_data"
    }
   ],
   "source": [
    "zeta_data = a[a['SECTION'] == 'SIGMA']\n",
    "zeta_data = zeta_data[['DV', 'M', 'PP', 'BEEE', 'FL', 'FIMS']].mean()\n",
    "plt.figure(figsize=(10, 6))\n",
    "sns.stripplot(x=zeta_data.index, y=zeta_data.values)\n",
    "plt.title(\"Performance of SIGMA Section by Subject\", fontsize=16, fontweight='bold')\n",
    "plt.xlabel(\"Subjects\", fontsize=12)\n",
    "plt.ylabel(\"Marks\", fontsize=12)\n",
    "plt.xticks(fontsize=10)\n",
    "plt.yticks(fontsize=10)\n",
    "plt.show()\n"
   ]
  },
  {
   "cell_type": "markdown",
   "id": "259f3132-5367-4e44-94ae-829a4a4c96d0",
   "metadata": {},
   "source": [
    "This code calculates the average marks for the SIGMA section in each subject and plots a strip plot using Seaborn to visualize their performance. "
   ]
  },
  {
   "cell_type": "code",
   "execution_count": 399,
   "id": "adbfa6c8-d5ab-4a58-96f3-5775c5d94404",
   "metadata": {},
   "outputs": [
    {
     "data": {
      "image/png": "[encoded data removed]",
      "text/plain": [
       "<Figure size 1000x600 with 1 Axes>"
      ]
     },
     "metadata": {},
     "output_type": "display_data"
    }
   ],
   "source": [
    "zeta_data = a[a['SECTION'] == 'ALPHA']\n",
    "zeta_data = zeta_data[['DV', 'M', 'PP', 'BEEE', 'FL', 'FIMS']].mean()\n",
    "plt.figure(figsize=(10, 6))\n",
    "sns.histplot(x=zeta_data.index, y=zeta_data.values,color='orange',edgecolor=\"black\")\n",
    "plt.title(\"Performance of ALPHA Section by Subject\", fontsize=16, fontweight='bold')\n",
    "plt.xlabel(\"Subjects\", fontsize=12)\n",
    "plt.ylabel(\"Marks\", fontsize=12)\n",
    "plt.xticks(fontsize=10)\n",
    "plt.yticks(fontsize=10)\n",
    "plt.show()\n"
   ]
  },
  {
   "cell_type": "markdown",
   "id": "7d87b6bc-b018-4a5d-a2a8-1cb12ae0284c",
   "metadata": {},
   "source": [
    "This code calculates the average marks for the ALPHA section in each subject and attempts to plot a histogram using Seaborn, but histplot is not suitable for categorical x-values. A bar plot would be more appropriate."
   ]
  },
  {
   "cell_type": "code",
   "execution_count": 401,
   "id": "67c46bb5-afa9-43a8-b0e7-f503071ecf39",
   "metadata": {},
   "outputs": [
    {
     "data": {
      "text/plain": [
       "DV    13.411111\n",
       "dtype: float64"
      ]
     },
     "execution_count": 401,
     "metadata": {},
     "output_type": "execute_result"
    }
   ],
   "source": [
    "zeta_data = a[a['SECTION'] == 'ALPHA']\n",
    "zeta_data = zeta_data[['DV']].mean()\n",
    "zeta_data"
   ]
  },
  {
   "cell_type": "code",
   "execution_count": 402,
   "id": "ceb222fe-4cae-476e-b9d9-ec35d1ab9f1e",
   "metadata": {},
   "outputs": [
    {
     "data": {
      "image/png": "[encoded data removed]",
      "text/plain": [
       "<Figure size 1000x600 with 1 Axes>"
      ]
     },
     "metadata": {},
     "output_type": "display_data"
    }
   ],
   "source": [
    "zeta_data = a[a['SECTION'] == 'ALPHA']\n",
    "zeta_data = zeta_data[['DV', 'M', 'PP', 'BEEE', 'FL', 'FIMS']].mean()\n",
    "plt.figure(figsize=(10, 6))\n",
    "sns.boxplot(x=zeta_data.index, y=zeta_data.values,color='orange')\n",
    "plt.title(\"Performance of ALPHA Section by Subject\", fontsize=16, fontweight='bold')\n",
    "plt.xlabel(\"Subjects\", fontsize=12)\n",
    "plt.ylabel(\"Marks\", fontsize=12)\n",
    "plt.xticks(fontsize=10)\n",
    "plt.yticks(fontsize=10)\n",
    "plt.show()\n"
   ]
  },
  {
   "cell_type": "markdown",
   "id": "86c2b0d6-77dc-4ffb-b42a-1d2adc20e7b0",
   "metadata": {},
   "source": [
    "This code calculates the average marks for the ALPHA section in each subject and tries to plot a box plot using Seaborn, but since the data is already aggregated (one value per subject), a bar plot would be more appropriate."
   ]
  },
  {
   "cell_type": "code",
   "execution_count": 404,
   "id": "488d0294-b079-4d93-91d4-b104f2773929",
   "metadata": {},
   "outputs": [
    {
     "data": {
      "image/png": "[encoded data removed]",
      "text/plain": [
       "<Figure size 1000x600 with 1 Axes>"
      ]
     },
     "metadata": {},
     "output_type": "display_data"
    }
   ],
   "source": [
    "zeta_data = a[a['SECTION'] == 'OMEGA']\n",
    "zeta_data = zeta_data[['DV', 'M', 'PP', 'BEEE', 'FL', 'FIMS']].mean()\n",
    "plt.figure(figsize=(10, 6))\n",
    "sns.barplot(x=zeta_data.index, y=zeta_data.values, edgecolor='black',color='red')\n",
    "plt.title(\"Performance of OMEGA Section by Subject\", fontsize=16, fontweight='bold')\n",
    "plt.xlabel(\"Subjects\", fontsize=12)\n",
    "plt.ylabel(\"Marks\", fontsize=12)\n",
    "plt.xticks(fontsize=10)\n",
    "plt.yticks(fontsize=10)\n",
    "plt.show()\n"
   ]
  },
  {
   "cell_type": "markdown",
   "id": "014471a8-3ecd-441e-a7a2-5bf9884f9fd4",
   "metadata": {},
   "source": [
    "This code calculates the average marks for the OMEGA section in each subject and plots a bar chart using Seaborn to visualize their performance."
   ]
  },
  {
   "cell_type": "code",
   "execution_count": 406,
   "id": "ea25a062-69f3-4ab9-b1b4-a8d375149cf5",
   "metadata": {},
   "outputs": [
    {
     "data": {
      "image/png": "[encoded data removed]",
      "text/plain": [
       "<Figure size 1000x600 with 1 Axes>"
      ]
     },
     "metadata": {},
     "output_type": "display_data"
    }
   ],
   "source": [
    "plt.figure(figsize=(10, 6))\n",
    "sns.histplot(a['DV'], kde=True, color='skyblue', bins=10)\n",
    "plt.title(\"Distribution of Grades in 'DV' Across All Sections\", fontsize=16)\n",
    "plt.xlabel(\"Grades\", fontsize=12)\n",
    "plt.ylabel(\"Frequency\", fontsize=12)\n",
    "plt.xticks(fontsize=10)\n",
    "plt.yticks(fontsize=10)\n",
    "plt.show()"
   ]
  },
  {
   "cell_type": "markdown",
   "id": "e7848df3-68e2-4274-8c8c-b67af7e5394c",
   "metadata": {},
   "source": [
    "This code plots a histogram with a KDE (Kernel Density Estimate) curve to show the distribution of grades in 'DV' across all sections, using Seaborn."
   ]
  },
  {
   "cell_type": "code",
   "execution_count": 408,
   "id": "bd986b38-5b97-413f-821a-85b7a82859f6",
   "metadata": {},
   "outputs": [
    {
     "data": {
      "image/png": "[encoded data removed]",
      "text/plain": [
       "<Figure size 1000x600 with 1 Axes>"
      ]
     },
     "metadata": {},
     "output_type": "display_data"
    }
   ],
   "source": [
    "plt.figure(figsize=(10, 6))\n",
    "sns.scatterplot(a['M'], color='pink')\n",
    "plt.title(\"Distribution of Grades in 'DV' Across All Sections\", fontsize=16)\n",
    "plt.xlabel(\"Grades\", fontsize=12)\n",
    "plt.ylabel(\"Frequency\", fontsize=12)\n",
    "plt.xticks(fontsize=10)\n",
    "plt.yticks(fontsize=10)\n",
    "plt.show()"
   ]
  },
  {
   "cell_type": "markdown",
   "id": "40eeffb5-ddc3-4cb7-b06b-8b372adf46ec",
   "metadata": {},
   "source": [
    "This code attempts to create a scatter plot for grades in 'M', but it's missing an x or y argument. A scatter plot needs both axes; for a distribution, a histogram or KDE plot would be more appropriate."
   ]
  },
  {
   "cell_type": "code",
   "execution_count": 410,
   "id": "352e590e-9cce-4ffa-9a2e-845674836e43",
   "metadata": {},
   "outputs": [
    {
     "data": {
      "image/png": "[encoded data removed]",
      "text/plain": [
       "<Figure size 600x600 with 1 Axes>"
      ]
     },
     "metadata": {},
     "output_type": "display_data"
    }
   ],
   "source": [
    "plt.figure(figsize=(6, 6))\n",
    "a['backlogs'].value_counts().plot.pie(autopct='%1.1f%%', cmap='coolwarm', legend=True)\n",
    "plt.ylabel(\"\")\n",
    "plt.show()"
   ]
  },
  {
   "cell_type": "markdown",
   "id": "c6c19aa3-6f43-4d64-8bc6-bf7f09bc1828",
   "metadata": {},
   "source": [
    "This code creates a pie chart showing the percentage distribution of backlogs in dataset a."
   ]
  },
  {
   "cell_type": "code",
   "execution_count": 412,
   "id": "0cd6eead-fd09-4e30-aac6-3c550977842f",
   "metadata": {},
   "outputs": [
    {
     "data": {
      "image/png": "[encoded data removed]",
      "text/plain": [
       "<Figure size 600x600 with 1 Axes>"
      ]
     },
     "metadata": {},
     "output_type": "display_data"
    }
   ],
   "source": [
    "plt.figure(figsize=(6, 6))\n",
    "sns.histplot(a['backlogs'], kde=True, color='blue', bins=10)\n",
    "plt.title(\"Histogram of backlogs Marks\")\n",
    "plt.show()"
   ]
  },
  {
   "cell_type": "markdown",
   "id": "191c4622-f4c8-4f39-94cc-c3a8cfad6011",
   "metadata": {},
   "source": [
    "This code creates a histogram with a KDE curve to show the distribution of backlogs in dataset a."
   ]
  },
  {
   "cell_type": "code",
   "execution_count": 414,
   "id": "16890a7e-3128-4bd1-b170-34b4f2bb0757",
   "metadata": {},
   "outputs": [
    {
     "data": {
      "image/png": "[encoded data removed]",
      "text/plain": [
       "<Figure size 600x600 with 1 Axes>"
      ]
     },
     "metadata": {},
     "output_type": "display_data"
    }
   ],
   "source": [
    "plt.figure(figsize=(6, 6))\n",
    "sns.lineplot(a['backlogs'], color='blue')\n",
    "plt.title(\"Histogram of backlogs Marks\")\n",
    "plt.show()"
   ]
  },
  {
   "cell_type": "markdown",
   "id": "a05b1281-4d81-44cf-bc32-0f6606fd056c",
   "metadata": {},
   "source": [
    "This code attempts to create a line plot for 'backlogs', but it's missing an x argument. Also, a line plot isn't ideal for a single variable distribution—use a histogram or KDE plot instead."
   ]
  },
  {
   "cell_type": "code",
   "execution_count": 416,
   "id": "d2e2b151-3464-4522-bc1d-0cb7b0793f5d",
   "metadata": {},
   "outputs": [
    {
     "name": "stdout",
     "output_type": "stream",
     "text": [
      "<class 'pandas.core.frame.DataFrame'>\n",
      "Index: 716 entries, 0 to 717\n",
      "Data columns (total 13 columns):\n",
      " #   Column              Non-Null Count  Dtype  \n",
      "---  ------              --------------  -----  \n",
      " 0   S.NO                716 non-null    int64  \n",
      " 1   SECTION             716 non-null    object \n",
      " 2   DV                  716 non-null    int32  \n",
      " 3   M                   716 non-null    float64\n",
      " 4   PP                  716 non-null    float64\n",
      " 5   BEEE                716 non-null    float64\n",
      " 6   FL                  716 non-null    float64\n",
      " 7   FIMS                716 non-null    float64\n",
      " 8   backlogs            716 non-null    int32  \n",
      " 9   Total               716 non-null    float64\n",
      " 10  Grade               716 non-null    object \n",
      " 11  Programming_skills  670 non-null    object \n",
      " 12  analytical_skills   673 non-null    object \n",
      "dtypes: float64(6), int32(2), int64(1), object(4)\n",
      "memory usage: 72.7+ KB\n"
     ]
    }
   ],
   "source": [
    "a.info()"
   ]
  },
  {
   "cell_type": "code",
   "execution_count": 417,
   "id": "e494f84e-1f35-4090-9b97-986c0deee4ad",
   "metadata": {},
   "outputs": [
    {
     "data": {
      "text/html": [
       "<div>\n",
       "<style scoped>\n",
       "    .dataframe tbody tr th:only-of-type {\n",
       "        vertical-align: middle;\n",
       "    }\n",
       "\n",
       "    .dataframe tbody tr th {\n",
       "        vertical-align: top;\n",
       "    }\n",
       "\n",
       "    .dataframe thead th {\n",
       "        text-align: right;\n",
       "    }\n",
       "</style>\n",
       "<table border=\"1\" class=\"dataframe\">\n",
       "  <thead>\n",
       "    <tr style=\"text-align: right;\">\n",
       "      <th></th>\n",
       "      <th>S.NO</th>\n",
       "      <th>DV</th>\n",
       "      <th>M</th>\n",
       "      <th>PP</th>\n",
       "      <th>BEEE</th>\n",
       "      <th>FL</th>\n",
       "      <th>FIMS</th>\n",
       "      <th>backlogs</th>\n",
       "      <th>Total</th>\n",
       "    </tr>\n",
       "    <tr>\n",
       "      <th>SECTION</th>\n",
       "      <th></th>\n",
       "      <th></th>\n",
       "      <th></th>\n",
       "      <th></th>\n",
       "      <th></th>\n",
       "      <th></th>\n",
       "      <th></th>\n",
       "      <th></th>\n",
       "      <th></th>\n",
       "    </tr>\n",
       "  </thead>\n",
       "  <tbody>\n",
       "    <tr>\n",
       "      <th>ALPHA</th>\n",
       "      <td>45.500000</td>\n",
       "      <td>13.411111</td>\n",
       "      <td>13.711111</td>\n",
       "      <td>15.933333</td>\n",
       "      <td>15.622222</td>\n",
       "      <td>16.177778</td>\n",
       "      <td>12.700000</td>\n",
       "      <td>0.866667</td>\n",
       "      <td>87.555556</td>\n",
       "    </tr>\n",
       "    <tr>\n",
       "      <th>BETA</th>\n",
       "      <td>135.500000</td>\n",
       "      <td>13.000000</td>\n",
       "      <td>12.122222</td>\n",
       "      <td>15.966667</td>\n",
       "      <td>10.855556</td>\n",
       "      <td>15.977778</td>\n",
       "      <td>14.044444</td>\n",
       "      <td>1.144444</td>\n",
       "      <td>81.966667</td>\n",
       "    </tr>\n",
       "    <tr>\n",
       "      <th>DELTA</th>\n",
       "      <td>225.500000</td>\n",
       "      <td>13.866667</td>\n",
       "      <td>9.500000</td>\n",
       "      <td>12.422222</td>\n",
       "      <td>9.455556</td>\n",
       "      <td>14.555556</td>\n",
       "      <td>16.577778</td>\n",
       "      <td>1.533333</td>\n",
       "      <td>76.377778</td>\n",
       "    </tr>\n",
       "    <tr>\n",
       "      <th>EPSILON</th>\n",
       "      <td>314.500000</td>\n",
       "      <td>15.215909</td>\n",
       "      <td>6.693182</td>\n",
       "      <td>8.568182</td>\n",
       "      <td>14.431818</td>\n",
       "      <td>15.318182</td>\n",
       "      <td>12.068182</td>\n",
       "      <td>1.863636</td>\n",
       "      <td>72.295455</td>\n",
       "    </tr>\n",
       "    <tr>\n",
       "      <th>GAMMA</th>\n",
       "      <td>403.500000</td>\n",
       "      <td>14.811111</td>\n",
       "      <td>9.288889</td>\n",
       "      <td>10.777778</td>\n",
       "      <td>14.788889</td>\n",
       "      <td>15.633333</td>\n",
       "      <td>12.433333</td>\n",
       "      <td>1.500000</td>\n",
       "      <td>77.733333</td>\n",
       "    </tr>\n",
       "    <tr>\n",
       "      <th>OMEGA</th>\n",
       "      <td>493.500000</td>\n",
       "      <td>16.555556</td>\n",
       "      <td>8.266667</td>\n",
       "      <td>14.611111</td>\n",
       "      <td>13.522222</td>\n",
       "      <td>15.633333</td>\n",
       "      <td>15.100000</td>\n",
       "      <td>1.377778</td>\n",
       "      <td>83.688889</td>\n",
       "    </tr>\n",
       "    <tr>\n",
       "      <th>SIGMA</th>\n",
       "      <td>570.080645</td>\n",
       "      <td>16.145161</td>\n",
       "      <td>12.645161</td>\n",
       "      <td>14.532258</td>\n",
       "      <td>13.258065</td>\n",
       "      <td>16.322581</td>\n",
       "      <td>15.451613</td>\n",
       "      <td>0.967742</td>\n",
       "      <td>88.354839</td>\n",
       "    </tr>\n",
       "    <tr>\n",
       "      <th>ZETA</th>\n",
       "      <td>660.500000</td>\n",
       "      <td>15.517241</td>\n",
       "      <td>8.543103</td>\n",
       "      <td>10.465517</td>\n",
       "      <td>14.137931</td>\n",
       "      <td>15.103448</td>\n",
       "      <td>14.318966</td>\n",
       "      <td>1.689655</td>\n",
       "      <td>78.086207</td>\n",
       "    </tr>\n",
       "  </tbody>\n",
       "</table>\n",
       "</div>"
      ],
      "text/plain": [
       "               S.NO         DV          M         PP       BEEE         FL  \\\n",
       "SECTION                                                                      \n",
       "ALPHA     45.500000  13.411111  13.711111  15.933333  15.622222  16.177778   \n",
       "BETA     135.500000  13.000000  12.122222  15.966667  10.855556  15.977778   \n",
       "DELTA    225.500000  13.866667   9.500000  12.422222   9.455556  14.555556   \n",
       "EPSILON  314.500000  15.215909   6.693182   8.568182  14.431818  15.318182   \n",
       "GAMMA    403.500000  14.811111   9.288889  10.777778  14.788889  15.633333   \n",
       "OMEGA    493.500000  16.555556   8.266667  14.611111  13.522222  15.633333   \n",
       "SIGMA    570.080645  16.145161  12.645161  14.532258  13.258065  16.322581   \n",
       "ZETA     660.500000  15.517241   8.543103  10.465517  14.137931  15.103448   \n",
       "\n",
       "              FIMS  backlogs      Total  \n",
       "SECTION                                  \n",
       "ALPHA    12.700000  0.866667  87.555556  \n",
       "BETA     14.044444  1.144444  81.966667  \n",
       "DELTA    16.577778  1.533333  76.377778  \n",
       "EPSILON  12.068182  1.863636  72.295455  \n",
       "GAMMA    12.433333  1.500000  77.733333  \n",
       "OMEGA    15.100000  1.377778  83.688889  \n",
       "SIGMA    15.451613  0.967742  88.354839  \n",
       "ZETA     14.318966  1.689655  78.086207  "
      ]
     },
     "execution_count": 417,
     "metadata": {},
     "output_type": "execute_result"
    }
   ],
   "source": [
    "a.groupby([\"SECTION\"]).mean(numeric_only=True)"
   ]
  },
  {
   "cell_type": "code",
   "execution_count": 418,
   "id": "908b6ebf-7516-4b0a-93e6-3a440b19e880",
   "metadata": {},
   "outputs": [
    {
     "data": {
      "text/plain": [
       "12.769553072625698"
      ]
     },
     "execution_count": 418,
     "metadata": {},
     "output_type": "execute_result"
    }
   ],
   "source": [
    "a[\"PP\"].mean()"
   ]
  },
  {
   "cell_type": "markdown",
   "id": "6b8fdbd3-69a4-4c03-8ca8-cb11c3473644",
   "metadata": {},
   "source": [
    "Applying Statistical modeling-ttests,chi-square test"
   ]
  },
  {
   "cell_type": "code",
   "execution_count": 420,
   "id": "cecaf64a-4825-4c12-ae16-3497d40e11af",
   "metadata": {},
   "outputs": [
    {
     "name": "stdout",
     "output_type": "stream",
     "text": [
      "Reject Null Hypothesis: ALPHA's mean PP differs significantly from overall mean\n"
     ]
    },
    {
     "data": {
      "text/plain": [
       "(5.616541461763513, 2.1937627321439336e-07)"
      ]
     },
     "execution_count": 420,
     "metadata": {},
     "output_type": "execute_result"
    }
   ],
   "source": [
    "from scipy.stats import ttest_1samp\n",
    "\n",
    "data = a[a[\"SECTION\"] == \"ALPHA\"][\"PP\"]\n",
    "overall_mean = a[\"PP\"].mean()\n",
    "\n",
    "ttest, pvalue = ttest_1samp(data, overall_mean)\n",
    "\n",
    "if pvalue < 0.05:\n",
    "    print(\"Reject Null Hypothesis: ALPHA's mean PP differs significantly from overall mean\")\n",
    "else:\n",
    "    print(\"Fail to Reject Null Hypothesis: No significant difference in ALPHA's mean PP\")\n",
    "\n",
    "ttest, pvalue\n"
   ]
  },
  {
   "cell_type": "code",
   "execution_count": 421,
   "id": "c429013e-3afb-49dd-b5ee-a3d22c6f1c0c",
   "metadata": {},
   "outputs": [
    {
     "name": "stdout",
     "output_type": "stream",
     "text": [
      "T-Test Statistic: 0.5976\n",
      "P-Value: 0.550854\n",
      "Accept Null Hypothesis: No Significant Difference in FL scores between BETA and GAMMA sections.\n"
     ]
    }
   ],
   "source": [
    "from scipy.stats import ttest_ind\n",
    "\n",
    "data = a[a[\"SECTION\"] == \"BETA\"][\"FL\"]\n",
    "data1 = a[a[\"SECTION\"] == \"GAMMA\"][\"FL\"]\n",
    "\n",
    "ttest, pvalue = ttest_ind(data, data1, equal_var=False)  \n",
    "print(f\"T-Test Statistic: {ttest:.4f}\")  \n",
    "print(f\"P-Value: {pvalue:.6f}\")\n",
    "if pvalue < 0.05:\n",
    "    print(\"Reject Null Hypothesis: Significant Difference in FL scores between BETA and GAMMA sections.\")\n",
    "else:\n",
    "    print(\"Accept Null Hypothesis: No Significant Difference in FL scores between BETA and GAMMA sections.\")\n"
   ]
  },
  {
   "cell_type": "code",
   "execution_count": 422,
   "id": "0bac1e4b-a1fc-4061-964d-a768d250b466",
   "metadata": {},
   "outputs": [
    {
     "name": "stdout",
     "output_type": "stream",
     "text": [
      "T-Test Statistic: -3.6313\n",
      "P-Value: 0.000471\n",
      "Reject Null Hypothesis: Significant Difference between M and FIMS scores in BETA section.\n"
     ]
    }
   ],
   "source": [
    "from scipy.stats import ttest_rel\n",
    "\n",
    "data = a[a[\"SECTION\"] == \"BETA\"][\"M\"]\n",
    "data1 = a[a[\"SECTION\"] == \"BETA\"][\"FIMS\"]\n",
    "\n",
    "ttest, pvalue = ttest_rel(data, data1) \n",
    " \n",
    "print(f\"T-Test Statistic: {ttest:.4f}\")\n",
    "print(f\"P-Value: {pvalue:.6f}\")\n",
    "\n",
    "\n",
    "if pvalue < 0.05:\n",
    "    print(\"Reject Null Hypothesis: Significant Difference between M and FIMS scores in BETA section.\")\n",
    "else:\n",
    "    print(\"Fail to Reject Null Hypothesis: No Significant Difference between M and FIMS scores in BETA section.\")"
   ]
  },
  {
   "cell_type": "code",
   "execution_count": 423,
   "id": "f5a5e6dd-217c-4bf1-8b67-f5b0dc9d9496",
   "metadata": {},
   "outputs": [
    {
     "name": "stdout",
     "output_type": "stream",
     "text": [
      "Chi-Square Test for Independence\n",
      "Chi-Square Statistic: 652.2555\n",
      "Degrees of Freedom: 100\n",
      "P-Value: 0.000000\n",
      "Reject Null Hypothesis: Significant association between DV and Grade.\n"
     ]
    }
   ],
   "source": [
    "from scipy.stats import chi2_contingency\n",
    "import pandas as pd\n",
    "table = pd.crosstab(a[\"DV\"], a[\"Grade\"])\n",
    "\n",
    "chi2, p, dof, expected = chi2_contingency(table)\n",
    "\n",
    "\n",
    "print(\"Chi-Square Test for Independence\")\n",
    "print(f\"Chi-Square Statistic: {chi2:.4f}\")\n",
    "print(f\"Degrees of Freedom: {dof}\")\n",
    "print(f\"P-Value: {p:.6f}\")\n",
    "\n",
    "\n",
    "if p < 0.05:\n",
    "    print(\"Reject Null Hypothesis: Significant association between DV and Grade.\")\n",
    "else:\n",
    "    print(\"Fail to Reject Null Hypothesis: No significant association between DV and Grade.\")\n"
   ]
  },
  {
   "cell_type": "markdown",
   "id": "e9a1220d-cdca-4cbc-b511-60a5de1bba37",
   "metadata": {},
   "source": [
    "**Conclusion** \n",
    "The dataset analysis highlights variations in student performance across different subjects. Some subjects, like Foreign Language and Programming Principles, tend to have higher scores, suggesting better comprehension among students. On the other hand, subjects like Mathematics-II and Financial and Industrial Management Studies exhibit more variations, indicating possible difficulties in understanding. Additionally, analyzing performance across sections reveals differences in learning outcomes, which may be attributed to teaching methodologies or student engagement.  \n",
    "\n",
    "Overall, this dataset provides valuable insights for educators to assess academic performance and implement targeted interventions for improvement. Further analysis can help identify patterns in weaker subjects and develop strategies for enhancing student learning."
   ]
  },
  {
   "cell_type": "code",
   "execution_count": null,
   "id": "1bef1695",
   "metadata": {},
   "outputs": [],
   "source": []
  }
 ],
 "metadata": {
  "kernelspec": {
   "display_name": "Python 3 (ipykernel)",
   "language": "python",
   "name": "python3"
  },
  "language_info": {
   "codemirror_mode": {
    "name": "ipython",
    "version": 3
   },
   "file_extension": ".py",
   "mimetype": "text/x-python",
   "name": "python",
   "nbconvert_exporter": "python",
   "pygments_lexer": "ipython3",
   "version": "3.10.9"
  }
 },
 "nbformat": 4,
 "nbformat_minor": 5
}
